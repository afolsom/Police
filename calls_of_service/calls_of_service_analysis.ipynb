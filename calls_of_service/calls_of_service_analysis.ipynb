{
 "cells": [
  {
   "cell_type": "code",
   "execution_count": 1,
   "metadata": {},
   "outputs": [],
   "source": [
    "import pandas as pd\n",
    "import numpy as np"
   ]
  },
  {
   "cell_type": "code",
   "execution_count": 2,
   "metadata": {},
   "outputs": [
    {
     "output_type": "execute_result",
     "data": {
      "text/plain": "Traffic Stop                       29361\nPhoenix Fire Dispatch              15874\nSuspicious Person/Veh/Activity      8670\nAlarm/Audible                       6881\nDomestic Disturbance/Fight          5057\nSubject Stop                        4855\nWelfare Check                       4601\nID Tech Call                        4501\nDisorderly Conduct                  3964\nTheft or Shoplifting                3915\n911 Hang-Up                         2917\nAccident/Non-Injuries               2428\nTrespass/Subj Refusing to Leave     2412\nNoise Disturbance                   2286\nAccident With Injuries              2274\nAbandoned Vehicle                   2260\nAirport Facility Check              2190\nWater Treatment Facility Check      2189\nPublic Assist                       2029\nDisabled Vehicle                    1976\nName: Reported As, dtype: int64"
     },
     "metadata": {},
     "execution_count": 2
    }
   ],
   "source": [
    "chandler_calls=pd.read_csv('chandler_calls_for_service_2019.csv')\n",
    "chandler_calls_slim=chandler_calls['Reported As']\n",
    "chandler_calls_slim.value_counts().head(20)"
   ]
  },
  {
   "cell_type": "code",
   "execution_count": 3,
   "metadata": {},
   "outputs": [
    {
     "output_type": "execute_result",
     "data": {
      "text/plain": "CODE 6             900322\nTRAFFIC STOP       128399\nMAN                 80009\nGRP                 48971\nCODE 30 RINGER      45872\nSUSP NOW            40801\nTRESPASS SUSP       40682\nINVEST              29745\nSUSP                29492\nAMB                 27691\nDOM VIOL            26992\nPARTY               26558\nRADIO               23194\nWOMAN               20817\nPOSS SUSP           19847\nUNKNOWN TROUBLE     15886\nSUSP J/L            15819\nMAN/WMN             14964\nFAMILY              14891\nJ/O                 14517\nName: Call_Type_Text, dtype: int64"
     },
     "metadata": {},
     "execution_count": 3
    }
   ],
   "source": [
    "lapd_calls=pd.read_csv('LAPD_Calls_for_service_2019.csv')\n",
    "lapd_calls['Call_Type_Text'].value_counts().head(20)"
   ]
  },
  {
   "cell_type": "code",
   "execution_count": 7,
   "metadata": {},
   "outputs": [
    {
     "output_type": "execute_result",
     "data": {
      "text/plain": "TRAFFIC STOP       12010\nWELFARE CHK IP      6245\nSUSP ACT IP         4727\nFOLLOW UP           3410\nACCIDENT PD IP      2894\nALARM               2875\nSERVICE IP          2807\nDISTURBANCE IP      2433\nTHEFT NP            2208\nNOISE               2172\nTRESPASS IP         1983\nDOMESTIC IP         1763\nATL                 1519\nTRAFFIC HAZARD       924\nPROPERTY             895\nHARASSMENT NP        883\nTHEFT IP             720\nMOTORIST ASSIST      702\nWARRANT SERVICE      694\nEXTRA PATROL         676\nName: Nature of Call for Service, dtype: int64"
     },
     "metadata": {},
     "execution_count": 7
    }
   ],
   "source": [
    "bloomington_calls=pd.read_excel('bloomington_calls_of_service.xlsx')\n",
    "bloomington_calls['Nature of Call for Service'].value_counts().head(20)"
   ]
  },
  {
   "cell_type": "code",
   "execution_count": null,
   "metadata": {},
   "outputs": [],
   "source": []
  }
 ],
 "metadata": {
  "language_info": {
   "codemirror_mode": {
    "name": "ipython",
    "version": 3
   },
   "file_extension": ".py",
   "mimetype": "text/x-python",
   "name": "python",
   "nbconvert_exporter": "python",
   "pygments_lexer": "ipython3",
   "version": "3.7.4-final"
  },
  "orig_nbformat": 2,
  "kernelspec": {
   "name": "python37464bit5adeeab5c6814e05b074cda073ab0bb1",
   "display_name": "Python 3.7.4 64-bit"
  }
 },
 "nbformat": 4,
 "nbformat_minor": 2
}