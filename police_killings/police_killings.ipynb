{
 "cells": [
  {
   "cell_type": "code",
   "execution_count": 2,
   "metadata": {},
   "outputs": [],
   "source": [
    "import pandas as pd\n",
    "import numpy as np"
   ]
  },
  {
   "cell_type": "code",
   "execution_count": 3,
   "metadata": {},
   "outputs": [
    {
     "output_type": "execute_result",
     "data": {
      "text/plain": "       uid           name age gender raceethnicity    month  day  year  \\\n0  2016406    Terry Frost  20   Male         Black      May   25  2016   \n1   201681  Jeffry Graves  62   Male         White  January   31  2016   \n2    20161  Joshua Sisson  30   Male         White  January    1  2016   \n3    20163   Sean O'Brien  37   Male         White  January    2  2016   \n4   201653    Lance Light  54   Male         White  January    2  2016   \n\n           streetaddress        city state classification  \\\n0        2692 Madison Rd  Cincinnati    OH        Gunshot   \n1  36500 Bridgepointe Dr      Newark    CA        Gunshot   \n2           4200 6th Ave   San Diego    CA        Gunshot   \n3      100 Washington St  Livingston    MT        Gunshot   \n4  I-20 and Texas Hwy 70  Sweetwater    TX        Gunshot   \n\n           lawenforcementagency    armed  \n0  Cincinnati Police Department  Firearm  \n1      Newark Police Department  Firearm  \n2   San Diego Police Department    Knife  \n3  Livingston Police Department    Knife  \n4  Sweetwater Police Department  Firearm  ",
      "text/html": "<div>\n<style scoped>\n    .dataframe tbody tr th:only-of-type {\n        vertical-align: middle;\n    }\n\n    .dataframe tbody tr th {\n        vertical-align: top;\n    }\n\n    .dataframe thead th {\n        text-align: right;\n    }\n</style>\n<table border=\"1\" class=\"dataframe\">\n  <thead>\n    <tr style=\"text-align: right;\">\n      <th></th>\n      <th>uid</th>\n      <th>name</th>\n      <th>age</th>\n      <th>gender</th>\n      <th>raceethnicity</th>\n      <th>month</th>\n      <th>day</th>\n      <th>year</th>\n      <th>streetaddress</th>\n      <th>city</th>\n      <th>state</th>\n      <th>classification</th>\n      <th>lawenforcementagency</th>\n      <th>armed</th>\n    </tr>\n  </thead>\n  <tbody>\n    <tr>\n      <th>0</th>\n      <td>2016406</td>\n      <td>Terry Frost</td>\n      <td>20</td>\n      <td>Male</td>\n      <td>Black</td>\n      <td>May</td>\n      <td>25</td>\n      <td>2016</td>\n      <td>2692 Madison Rd</td>\n      <td>Cincinnati</td>\n      <td>OH</td>\n      <td>Gunshot</td>\n      <td>Cincinnati Police Department</td>\n      <td>Firearm</td>\n    </tr>\n    <tr>\n      <th>1</th>\n      <td>201681</td>\n      <td>Jeffry Graves</td>\n      <td>62</td>\n      <td>Male</td>\n      <td>White</td>\n      <td>January</td>\n      <td>31</td>\n      <td>2016</td>\n      <td>36500 Bridgepointe Dr</td>\n      <td>Newark</td>\n      <td>CA</td>\n      <td>Gunshot</td>\n      <td>Newark Police Department</td>\n      <td>Firearm</td>\n    </tr>\n    <tr>\n      <th>2</th>\n      <td>20161</td>\n      <td>Joshua Sisson</td>\n      <td>30</td>\n      <td>Male</td>\n      <td>White</td>\n      <td>January</td>\n      <td>1</td>\n      <td>2016</td>\n      <td>4200 6th Ave</td>\n      <td>San Diego</td>\n      <td>CA</td>\n      <td>Gunshot</td>\n      <td>San Diego Police Department</td>\n      <td>Knife</td>\n    </tr>\n    <tr>\n      <th>3</th>\n      <td>20163</td>\n      <td>Sean O'Brien</td>\n      <td>37</td>\n      <td>Male</td>\n      <td>White</td>\n      <td>January</td>\n      <td>2</td>\n      <td>2016</td>\n      <td>100 Washington St</td>\n      <td>Livingston</td>\n      <td>MT</td>\n      <td>Gunshot</td>\n      <td>Livingston Police Department</td>\n      <td>Knife</td>\n    </tr>\n    <tr>\n      <th>4</th>\n      <td>201653</td>\n      <td>Lance Light</td>\n      <td>54</td>\n      <td>Male</td>\n      <td>White</td>\n      <td>January</td>\n      <td>2</td>\n      <td>2016</td>\n      <td>I-20 and Texas Hwy 70</td>\n      <td>Sweetwater</td>\n      <td>TX</td>\n      <td>Gunshot</td>\n      <td>Sweetwater Police Department</td>\n      <td>Firearm</td>\n    </tr>\n  </tbody>\n</table>\n</div>"
     },
     "metadata": {},
     "execution_count": 3
    }
   ],
   "source": [
    "df=pd.read_csv(\"police_killings.csv\")\n",
    "df.head()"
   ]
  },
  {
   "cell_type": "code",
   "execution_count": 4,
   "metadata": {},
   "outputs": [
    {
     "output_type": "execute_result",
     "data": {
      "text/plain": "Index(['uid', 'name', 'age', 'gender', 'raceethnicity', 'month', 'day', 'year',\n       'streetaddress', 'city', 'state', 'classification',\n       'lawenforcementagency', 'armed'],\n      dtype='object')"
     },
     "metadata": {},
     "execution_count": 4
    }
   ],
   "source": [
    "df.columns"
   ]
  },
  {
   "cell_type": "code",
   "execution_count": 5,
   "metadata": {},
   "outputs": [
    {
     "output_type": "execute_result",
     "data": {
      "text/plain": "White                     574\nBlack                     266\nHispanic/Latino           183\nNative American            24\nUnknown                    22\nAsian/Pacific Islander     21\nArab-American               3\nName: raceethnicity, dtype: int64"
     },
     "metadata": {},
     "execution_count": 5
    }
   ],
   "source": [
    "df[\"raceethnicity\"].value_counts()"
   ]
  },
  {
   "cell_type": "code",
   "execution_count": 10,
   "metadata": {},
   "outputs": [],
   "source": [
    "df_unarmed=df[df[\"armed\"]==\"No\"]"
   ]
  },
  {
   "cell_type": "code",
   "execution_count": 11,
   "metadata": {},
   "outputs": [
    {
     "output_type": "execute_result",
     "data": {
      "text/plain": "           uid            name age  gender    raceethnicity     month  day  \\\n10       20167     Joel Nelson  29    Male            White   January    5   \n24      201620    Alan Bartley  56    Male            White   January   11   \n25      201621     Ciara Meyer  12  Female            White   January   11   \n34      201627   Kelsey Hauser  25  Female            White   January   16   \n47      201640   Daniel Shaver  26    Male            White   January   18   \n...        ...             ...  ..     ...              ...       ...  ...   \n1045  20161079    Marlon Lewis  39    Male            Black  December   15   \n1068  20161058    Jose Sanchez  30    Male  Hispanic/Latino  December   23   \n1073  20161078    Jesse DeBusk  38    Male            White  December   24   \n1085  20161095  John Sellinger  34    Male            White  December   28   \n1092  20161094    Chase Tuseth  33    Male            White  December   31   \n\n      year                      streetaddress          city state  \\\n10    2016                        93rd Ave SE       Olympia    WA   \n24    2016     San Fernando Rd and Hubbard St  San Fernando    CA   \n25    2016                         Rebecca Dr     Duncannon    PA   \n34    2016                    300 S Pierce St      El Cajon    CA   \n47    2016   6530 E Superstition Springs Blvd          Mesa    AZ   \n...    ...                                ...           ...   ...   \n1045  2016               Dewey St and Mayo St         Badin    NC   \n1068  2016  Fieldcrest Street and Esto Avenue      El Monte    CA   \n1073  2016                     612 Jameson St   Weatherford    TX   \n1085  2016            2502 Land O' Lakes Blvd  Land O Lakes    FL   \n1092  2016                    1900 Premier Dr       Mankato    MN   \n\n        classification                               lawenforcementagency  \\\n10             Gunshot                   Thurston County Sheriff's Office   \n24             Gunshot                     San Fernando Police Department   \n25             Gunshot                       Pennsylvania state constable   \n34             Gunshot                         El Cajon Police Department   \n47             Gunshot                             Mesa Police Department   \n...                ...                                                ...   \n1045             Taser  Badin Police Department, Stanly County Sheriff...   \n1068           Gunshot                         El Monte Police Department   \n1073  Death in custody                     Parker County Sheriff's Office   \n1085             Taser                      Pasco County Sheriff's Office   \n1092           Gunshot                Mankato Department of Public Safety   \n\n     armed  \n10      No  \n24      No  \n25      No  \n34      No  \n47      No  \n...    ...  \n1045    No  \n1068    No  \n1073    No  \n1085    No  \n1092    No  \n\n[170 rows x 14 columns]",
      "text/html": "<div>\n<style scoped>\n    .dataframe tbody tr th:only-of-type {\n        vertical-align: middle;\n    }\n\n    .dataframe tbody tr th {\n        vertical-align: top;\n    }\n\n    .dataframe thead th {\n        text-align: right;\n    }\n</style>\n<table border=\"1\" class=\"dataframe\">\n  <thead>\n    <tr style=\"text-align: right;\">\n      <th></th>\n      <th>uid</th>\n      <th>name</th>\n      <th>age</th>\n      <th>gender</th>\n      <th>raceethnicity</th>\n      <th>month</th>\n      <th>day</th>\n      <th>year</th>\n      <th>streetaddress</th>\n      <th>city</th>\n      <th>state</th>\n      <th>classification</th>\n      <th>lawenforcementagency</th>\n      <th>armed</th>\n    </tr>\n  </thead>\n  <tbody>\n    <tr>\n      <th>10</th>\n      <td>20167</td>\n      <td>Joel Nelson</td>\n      <td>29</td>\n      <td>Male</td>\n      <td>White</td>\n      <td>January</td>\n      <td>5</td>\n      <td>2016</td>\n      <td>93rd Ave SE</td>\n      <td>Olympia</td>\n      <td>WA</td>\n      <td>Gunshot</td>\n      <td>Thurston County Sheriff's Office</td>\n      <td>No</td>\n    </tr>\n    <tr>\n      <th>24</th>\n      <td>201620</td>\n      <td>Alan Bartley</td>\n      <td>56</td>\n      <td>Male</td>\n      <td>White</td>\n      <td>January</td>\n      <td>11</td>\n      <td>2016</td>\n      <td>San Fernando Rd and Hubbard St</td>\n      <td>San Fernando</td>\n      <td>CA</td>\n      <td>Gunshot</td>\n      <td>San Fernando Police Department</td>\n      <td>No</td>\n    </tr>\n    <tr>\n      <th>25</th>\n      <td>201621</td>\n      <td>Ciara Meyer</td>\n      <td>12</td>\n      <td>Female</td>\n      <td>White</td>\n      <td>January</td>\n      <td>11</td>\n      <td>2016</td>\n      <td>Rebecca Dr</td>\n      <td>Duncannon</td>\n      <td>PA</td>\n      <td>Gunshot</td>\n      <td>Pennsylvania state constable</td>\n      <td>No</td>\n    </tr>\n    <tr>\n      <th>34</th>\n      <td>201627</td>\n      <td>Kelsey Hauser</td>\n      <td>25</td>\n      <td>Female</td>\n      <td>White</td>\n      <td>January</td>\n      <td>16</td>\n      <td>2016</td>\n      <td>300 S Pierce St</td>\n      <td>El Cajon</td>\n      <td>CA</td>\n      <td>Gunshot</td>\n      <td>El Cajon Police Department</td>\n      <td>No</td>\n    </tr>\n    <tr>\n      <th>47</th>\n      <td>201640</td>\n      <td>Daniel Shaver</td>\n      <td>26</td>\n      <td>Male</td>\n      <td>White</td>\n      <td>January</td>\n      <td>18</td>\n      <td>2016</td>\n      <td>6530 E Superstition Springs Blvd</td>\n      <td>Mesa</td>\n      <td>AZ</td>\n      <td>Gunshot</td>\n      <td>Mesa Police Department</td>\n      <td>No</td>\n    </tr>\n    <tr>\n      <th>...</th>\n      <td>...</td>\n      <td>...</td>\n      <td>...</td>\n      <td>...</td>\n      <td>...</td>\n      <td>...</td>\n      <td>...</td>\n      <td>...</td>\n      <td>...</td>\n      <td>...</td>\n      <td>...</td>\n      <td>...</td>\n      <td>...</td>\n      <td>...</td>\n    </tr>\n    <tr>\n      <th>1045</th>\n      <td>20161079</td>\n      <td>Marlon Lewis</td>\n      <td>39</td>\n      <td>Male</td>\n      <td>Black</td>\n      <td>December</td>\n      <td>15</td>\n      <td>2016</td>\n      <td>Dewey St and Mayo St</td>\n      <td>Badin</td>\n      <td>NC</td>\n      <td>Taser</td>\n      <td>Badin Police Department, Stanly County Sheriff...</td>\n      <td>No</td>\n    </tr>\n    <tr>\n      <th>1068</th>\n      <td>20161058</td>\n      <td>Jose Sanchez</td>\n      <td>30</td>\n      <td>Male</td>\n      <td>Hispanic/Latino</td>\n      <td>December</td>\n      <td>23</td>\n      <td>2016</td>\n      <td>Fieldcrest Street and Esto Avenue</td>\n      <td>El Monte</td>\n      <td>CA</td>\n      <td>Gunshot</td>\n      <td>El Monte Police Department</td>\n      <td>No</td>\n    </tr>\n    <tr>\n      <th>1073</th>\n      <td>20161078</td>\n      <td>Jesse DeBusk</td>\n      <td>38</td>\n      <td>Male</td>\n      <td>White</td>\n      <td>December</td>\n      <td>24</td>\n      <td>2016</td>\n      <td>612 Jameson St</td>\n      <td>Weatherford</td>\n      <td>TX</td>\n      <td>Death in custody</td>\n      <td>Parker County Sheriff's Office</td>\n      <td>No</td>\n    </tr>\n    <tr>\n      <th>1085</th>\n      <td>20161095</td>\n      <td>John Sellinger</td>\n      <td>34</td>\n      <td>Male</td>\n      <td>White</td>\n      <td>December</td>\n      <td>28</td>\n      <td>2016</td>\n      <td>2502 Land O' Lakes Blvd</td>\n      <td>Land O Lakes</td>\n      <td>FL</td>\n      <td>Taser</td>\n      <td>Pasco County Sheriff's Office</td>\n      <td>No</td>\n    </tr>\n    <tr>\n      <th>1092</th>\n      <td>20161094</td>\n      <td>Chase Tuseth</td>\n      <td>33</td>\n      <td>Male</td>\n      <td>White</td>\n      <td>December</td>\n      <td>31</td>\n      <td>2016</td>\n      <td>1900 Premier Dr</td>\n      <td>Mankato</td>\n      <td>MN</td>\n      <td>Gunshot</td>\n      <td>Mankato Department of Public Safety</td>\n      <td>No</td>\n    </tr>\n  </tbody>\n</table>\n<p>170 rows × 14 columns</p>\n</div>"
     },
     "metadata": {},
     "execution_count": 11
    }
   ],
   "source": [
    "df_unarmed"
   ]
  },
  {
   "cell_type": "code",
   "execution_count": 13,
   "metadata": {},
   "outputs": [
    {
     "output_type": "execute_result",
     "data": {
      "text/plain": "White                     95\nBlack                     42\nHispanic/Latino           28\nNative American            2\nAsian/Pacific Islander     1\nArab-American              1\nUnknown                    1\nName: raceethnicity, dtype: int64"
     },
     "metadata": {},
     "execution_count": 13
    }
   ],
   "source": [
    "df_unarmed[\"raceethnicity\"].value_counts()"
   ]
  },
  {
   "cell_type": "code",
   "execution_count": null,
   "metadata": {},
   "outputs": [],
   "source": []
  }
 ],
 "metadata": {
  "language_info": {
   "codemirror_mode": {
    "name": "ipython",
    "version": 3
   },
   "file_extension": ".py",
   "mimetype": "text/x-python",
   "name": "python",
   "nbconvert_exporter": "python",
   "pygments_lexer": "ipython3",
   "version": "3.8.2-final"
  },
  "orig_nbformat": 2,
  "kernelspec": {
   "name": "python38264bit76e0f3bc3d954be6a13eddef1bacc624",
   "display_name": "Python 3.8.2 64-bit"
  }
 },
 "nbformat": 4,
 "nbformat_minor": 2
}