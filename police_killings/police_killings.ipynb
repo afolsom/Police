{
 "cells": [
  {
   "cell_type": "code",
   "execution_count": 1,
   "metadata": {},
   "outputs": [],
   "source": [
    "import pandas as pd\n",
    "import numpy as np"
   ]
  },
  {
   "cell_type": "code",
   "execution_count": 2,
   "metadata": {},
   "outputs": [
    {
     "output_type": "execute_result",
     "data": {
      "text/plain": "       uid           name age gender raceethnicity    month  day  year  \\\n0  2016406    Terry Frost  20   Male         Black      May   25  2016   \n1   201681  Jeffry Graves  62   Male         White  January   31  2016   \n2    20161  Joshua Sisson  30   Male         White  January    1  2016   \n3    20163   Sean O'Brien  37   Male         White  January    2  2016   \n4   201653    Lance Light  54   Male         White  January    2  2016   \n\n           streetaddress        city state classification  \\\n0        2692 Madison Rd  Cincinnati    OH        Gunshot   \n1  36500 Bridgepointe Dr      Newark    CA        Gunshot   \n2           4200 6th Ave   San Diego    CA        Gunshot   \n3      100 Washington St  Livingston    MT        Gunshot   \n4  I-20 and Texas Hwy 70  Sweetwater    TX        Gunshot   \n\n           lawenforcementagency    armed  \n0  Cincinnati Police Department  Firearm  \n1      Newark Police Department  Firearm  \n2   San Diego Police Department    Knife  \n3  Livingston Police Department    Knife  \n4  Sweetwater Police Department  Firearm  ",
      "text/html": "<div>\n<style scoped>\n    .dataframe tbody tr th:only-of-type {\n        vertical-align: middle;\n    }\n\n    .dataframe tbody tr th {\n        vertical-align: top;\n    }\n\n    .dataframe thead th {\n        text-align: right;\n    }\n</style>\n<table border=\"1\" class=\"dataframe\">\n  <thead>\n    <tr style=\"text-align: right;\">\n      <th></th>\n      <th>uid</th>\n      <th>name</th>\n      <th>age</th>\n      <th>gender</th>\n      <th>raceethnicity</th>\n      <th>month</th>\n      <th>day</th>\n      <th>year</th>\n      <th>streetaddress</th>\n      <th>city</th>\n      <th>state</th>\n      <th>classification</th>\n      <th>lawenforcementagency</th>\n      <th>armed</th>\n    </tr>\n  </thead>\n  <tbody>\n    <tr>\n      <th>0</th>\n      <td>2016406</td>\n      <td>Terry Frost</td>\n      <td>20</td>\n      <td>Male</td>\n      <td>Black</td>\n      <td>May</td>\n      <td>25</td>\n      <td>2016</td>\n      <td>2692 Madison Rd</td>\n      <td>Cincinnati</td>\n      <td>OH</td>\n      <td>Gunshot</td>\n      <td>Cincinnati Police Department</td>\n      <td>Firearm</td>\n    </tr>\n    <tr>\n      <th>1</th>\n      <td>201681</td>\n      <td>Jeffry Graves</td>\n      <td>62</td>\n      <td>Male</td>\n      <td>White</td>\n      <td>January</td>\n      <td>31</td>\n      <td>2016</td>\n      <td>36500 Bridgepointe Dr</td>\n      <td>Newark</td>\n      <td>CA</td>\n      <td>Gunshot</td>\n      <td>Newark Police Department</td>\n      <td>Firearm</td>\n    </tr>\n    <tr>\n      <th>2</th>\n      <td>20161</td>\n      <td>Joshua Sisson</td>\n      <td>30</td>\n      <td>Male</td>\n      <td>White</td>\n      <td>January</td>\n      <td>1</td>\n      <td>2016</td>\n      <td>4200 6th Ave</td>\n      <td>San Diego</td>\n      <td>CA</td>\n      <td>Gunshot</td>\n      <td>San Diego Police Department</td>\n      <td>Knife</td>\n    </tr>\n    <tr>\n      <th>3</th>\n      <td>20163</td>\n      <td>Sean O'Brien</td>\n      <td>37</td>\n      <td>Male</td>\n      <td>White</td>\n      <td>January</td>\n      <td>2</td>\n      <td>2016</td>\n      <td>100 Washington St</td>\n      <td>Livingston</td>\n      <td>MT</td>\n      <td>Gunshot</td>\n      <td>Livingston Police Department</td>\n      <td>Knife</td>\n    </tr>\n    <tr>\n      <th>4</th>\n      <td>201653</td>\n      <td>Lance Light</td>\n      <td>54</td>\n      <td>Male</td>\n      <td>White</td>\n      <td>January</td>\n      <td>2</td>\n      <td>2016</td>\n      <td>I-20 and Texas Hwy 70</td>\n      <td>Sweetwater</td>\n      <td>TX</td>\n      <td>Gunshot</td>\n      <td>Sweetwater Police Department</td>\n      <td>Firearm</td>\n    </tr>\n  </tbody>\n</table>\n</div>"
     },
     "metadata": {},
     "execution_count": 2
    }
   ],
   "source": [
    "df=pd.read_csv(\"police_killings.csv\")\n",
    "df.head()"
   ]
  },
  {
   "cell_type": "code",
   "execution_count": 3,
   "metadata": {},
   "outputs": [
    {
     "output_type": "execute_result",
     "data": {
      "text/plain": "Index(['uid', 'name', 'age', 'gender', 'raceethnicity', 'month', 'day', 'year',\n       'streetaddress', 'city', 'state', 'classification',\n       'lawenforcementagency', 'armed'],\n      dtype='object')"
     },
     "metadata": {},
     "execution_count": 3
    }
   ],
   "source": [
    "df.columns"
   ]
  },
  {
   "cell_type": "code",
   "execution_count": 6,
   "metadata": {},
   "outputs": [],
   "source": [
    "df_fakegun=df[df[\"armed\"]==\"Non-lethal firearm\"]"
   ]
  },
  {
   "cell_type": "code",
   "execution_count": 7,
   "metadata": {},
   "outputs": [
    {
     "output_type": "execute_result",
     "data": {
      "text/plain": "White                     57\nBlack                     22\nHispanic/Latino           12\nAsian/Pacific Islander     1\nUnknown                    1\nName: raceethnicity, dtype: int64"
     },
     "metadata": {},
     "execution_count": 7
    }
   ],
   "source": [
    "df_fakegun[\"raceethnicity\"].value_counts()"
   ]
  },
  {
   "cell_type": "code",
   "execution_count": 4,
   "metadata": {},
   "outputs": [
    {
     "output_type": "execute_result",
     "data": {
      "text/plain": "White                     1158\nBlack                      573\nHispanic/Latino            378\nAsian/Pacific Islander      45\nUnknown                     40\nNative American             37\nArab-American                7\nOther                        1\nName: raceethnicity, dtype: int64"
     },
     "metadata": {},
     "execution_count": 4
    }
   ],
   "source": [
    "df[\"raceethnicity\"].value_counts()"
   ]
  },
  {
   "cell_type": "code",
   "execution_count": 5,
   "metadata": {},
   "outputs": [],
   "source": [
    "df_unarmed=df[df[\"armed\"]==\"No\"]"
   ]
  },
  {
   "cell_type": "code",
   "execution_count": 6,
   "metadata": {},
   "outputs": [
    {
     "output_type": "execute_result",
     "data": {
      "text/plain": "         uid                name age  gender raceethnicity      month  day  \\\n10     20167         Joel Nelson  29    Male         White    January    5   \n24    201620        Alan Bartley  56    Male         White    January   11   \n25    201621         Ciara Meyer  12  Female         White    January   11   \n34    201627       Kelsey Hauser  25  Female         White    January   16   \n47    201640       Daniel Shaver  26    Male         White    January   18   \n...      ...                 ...  ..     ...           ...        ...  ...   \n2233    1171         James Sizer  62    Male         White      March    6   \n2234    1172  Kevin Higgenbotham  46    Male         Black       June   15   \n2236    1174     Adrian Campbell  24    Male         Black  September   21   \n2237    1175      Anthony Marino  58    Male         White   February   15   \n2238    1176       Joseph Seguin  38    Male         White   November   30   \n\n      year                     streetaddress          city state  \\\n10    2016                       93rd Ave SE       Olympia    WA   \n24    2016    San Fernando Rd and Hubbard St  San Fernando    CA   \n25    2016                        Rebecca Dr     Duncannon    PA   \n34    2016                   300 S Pierce St      El Cajon    CA   \n47    2016  6530 E Superstition Springs Blvd          Mesa    AZ   \n...    ...                               ...           ...   ...   \n2233  2015              11900 Bittern Hollow        Austin    TX   \n2234  2015                  200 Bellevue Ave       Trenton    NJ   \n2236  2015                      1800 66th St       Lubbock    TX   \n2237  2015              18422 Bear Valley Rd   Victorville    CA   \n2238  2015                       17 Aimee Ct       Mahopac    NY   \n\n        classification                     lawenforcementagency armed  \n10             Gunshot         Thurston County Sheriff's Office    No  \n24             Gunshot           San Fernando Police Department    No  \n25             Gunshot             Pennsylvania state constable    No  \n34             Gunshot               El Cajon Police Department    No  \n47             Gunshot                   Mesa Police Department    No  \n...                ...                                      ...   ...  \n2233             Taser                 Austin Police Department    No  \n2234  Death in custody                Trenton Police Department    No  \n2236  Death in custody                Lubbock Police Department    No  \n2237  Death in custody  Victor Valley College Police Department    No  \n2238             Taser                 Carmel Police Department    No  \n\n[405 rows x 14 columns]",
      "text/html": "<div>\n<style scoped>\n    .dataframe tbody tr th:only-of-type {\n        vertical-align: middle;\n    }\n\n    .dataframe tbody tr th {\n        vertical-align: top;\n    }\n\n    .dataframe thead th {\n        text-align: right;\n    }\n</style>\n<table border=\"1\" class=\"dataframe\">\n  <thead>\n    <tr style=\"text-align: right;\">\n      <th></th>\n      <th>uid</th>\n      <th>name</th>\n      <th>age</th>\n      <th>gender</th>\n      <th>raceethnicity</th>\n      <th>month</th>\n      <th>day</th>\n      <th>year</th>\n      <th>streetaddress</th>\n      <th>city</th>\n      <th>state</th>\n      <th>classification</th>\n      <th>lawenforcementagency</th>\n      <th>armed</th>\n    </tr>\n  </thead>\n  <tbody>\n    <tr>\n      <th>10</th>\n      <td>20167</td>\n      <td>Joel Nelson</td>\n      <td>29</td>\n      <td>Male</td>\n      <td>White</td>\n      <td>January</td>\n      <td>5</td>\n      <td>2016</td>\n      <td>93rd Ave SE</td>\n      <td>Olympia</td>\n      <td>WA</td>\n      <td>Gunshot</td>\n      <td>Thurston County Sheriff's Office</td>\n      <td>No</td>\n    </tr>\n    <tr>\n      <th>24</th>\n      <td>201620</td>\n      <td>Alan Bartley</td>\n      <td>56</td>\n      <td>Male</td>\n      <td>White</td>\n      <td>January</td>\n      <td>11</td>\n      <td>2016</td>\n      <td>San Fernando Rd and Hubbard St</td>\n      <td>San Fernando</td>\n      <td>CA</td>\n      <td>Gunshot</td>\n      <td>San Fernando Police Department</td>\n      <td>No</td>\n    </tr>\n    <tr>\n      <th>25</th>\n      <td>201621</td>\n      <td>Ciara Meyer</td>\n      <td>12</td>\n      <td>Female</td>\n      <td>White</td>\n      <td>January</td>\n      <td>11</td>\n      <td>2016</td>\n      <td>Rebecca Dr</td>\n      <td>Duncannon</td>\n      <td>PA</td>\n      <td>Gunshot</td>\n      <td>Pennsylvania state constable</td>\n      <td>No</td>\n    </tr>\n    <tr>\n      <th>34</th>\n      <td>201627</td>\n      <td>Kelsey Hauser</td>\n      <td>25</td>\n      <td>Female</td>\n      <td>White</td>\n      <td>January</td>\n      <td>16</td>\n      <td>2016</td>\n      <td>300 S Pierce St</td>\n      <td>El Cajon</td>\n      <td>CA</td>\n      <td>Gunshot</td>\n      <td>El Cajon Police Department</td>\n      <td>No</td>\n    </tr>\n    <tr>\n      <th>47</th>\n      <td>201640</td>\n      <td>Daniel Shaver</td>\n      <td>26</td>\n      <td>Male</td>\n      <td>White</td>\n      <td>January</td>\n      <td>18</td>\n      <td>2016</td>\n      <td>6530 E Superstition Springs Blvd</td>\n      <td>Mesa</td>\n      <td>AZ</td>\n      <td>Gunshot</td>\n      <td>Mesa Police Department</td>\n      <td>No</td>\n    </tr>\n    <tr>\n      <th>...</th>\n      <td>...</td>\n      <td>...</td>\n      <td>...</td>\n      <td>...</td>\n      <td>...</td>\n      <td>...</td>\n      <td>...</td>\n      <td>...</td>\n      <td>...</td>\n      <td>...</td>\n      <td>...</td>\n      <td>...</td>\n      <td>...</td>\n      <td>...</td>\n    </tr>\n    <tr>\n      <th>2233</th>\n      <td>1171</td>\n      <td>James Sizer</td>\n      <td>62</td>\n      <td>Male</td>\n      <td>White</td>\n      <td>March</td>\n      <td>6</td>\n      <td>2015</td>\n      <td>11900 Bittern Hollow</td>\n      <td>Austin</td>\n      <td>TX</td>\n      <td>Taser</td>\n      <td>Austin Police Department</td>\n      <td>No</td>\n    </tr>\n    <tr>\n      <th>2234</th>\n      <td>1172</td>\n      <td>Kevin Higgenbotham</td>\n      <td>46</td>\n      <td>Male</td>\n      <td>Black</td>\n      <td>June</td>\n      <td>15</td>\n      <td>2015</td>\n      <td>200 Bellevue Ave</td>\n      <td>Trenton</td>\n      <td>NJ</td>\n      <td>Death in custody</td>\n      <td>Trenton Police Department</td>\n      <td>No</td>\n    </tr>\n    <tr>\n      <th>2236</th>\n      <td>1174</td>\n      <td>Adrian Campbell</td>\n      <td>24</td>\n      <td>Male</td>\n      <td>Black</td>\n      <td>September</td>\n      <td>21</td>\n      <td>2015</td>\n      <td>1800 66th St</td>\n      <td>Lubbock</td>\n      <td>TX</td>\n      <td>Death in custody</td>\n      <td>Lubbock Police Department</td>\n      <td>No</td>\n    </tr>\n    <tr>\n      <th>2237</th>\n      <td>1175</td>\n      <td>Anthony Marino</td>\n      <td>58</td>\n      <td>Male</td>\n      <td>White</td>\n      <td>February</td>\n      <td>15</td>\n      <td>2015</td>\n      <td>18422 Bear Valley Rd</td>\n      <td>Victorville</td>\n      <td>CA</td>\n      <td>Death in custody</td>\n      <td>Victor Valley College Police Department</td>\n      <td>No</td>\n    </tr>\n    <tr>\n      <th>2238</th>\n      <td>1176</td>\n      <td>Joseph Seguin</td>\n      <td>38</td>\n      <td>Male</td>\n      <td>White</td>\n      <td>November</td>\n      <td>30</td>\n      <td>2015</td>\n      <td>17 Aimee Ct</td>\n      <td>Mahopac</td>\n      <td>NY</td>\n      <td>Taser</td>\n      <td>Carmel Police Department</td>\n      <td>No</td>\n    </tr>\n  </tbody>\n</table>\n<p>405 rows × 14 columns</p>\n</div>"
     },
     "metadata": {},
     "execution_count": 6
    }
   ],
   "source": [
    "df_unarmed"
   ]
  },
  {
   "cell_type": "code",
   "execution_count": 7,
   "metadata": {},
   "outputs": [
    {
     "output_type": "execute_result",
     "data": {
      "text/plain": "White                     201\nBlack                     121\nHispanic/Latino            67\nNative American             6\nAsian/Pacific Islander      5\nUnknown                     3\nArab-American               2\nName: raceethnicity, dtype: int64"
     },
     "metadata": {},
     "execution_count": 7
    }
   ],
   "source": [
    "df_unarmed[\"raceethnicity\"].value_counts()"
   ]
  },
  {
   "cell_type": "code",
   "execution_count": 8,
   "metadata": {},
   "outputs": [
    {
     "output_type": "execute_result",
     "data": {
      "text/plain": "0.29876543209876544"
     },
     "metadata": {},
     "execution_count": 8
    }
   ],
   "source": [
    "121/405"
   ]
  },
  {
   "cell_type": "code",
   "execution_count": 9,
   "metadata": {},
   "outputs": [
    {
     "output_type": "execute_result",
     "data": {
      "text/plain": "0.4962962962962963"
     },
     "metadata": {},
     "execution_count": 9
    }
   ],
   "source": [
    "201/405"
   ]
  },
  {
   "cell_type": "code",
   "execution_count": 2,
   "metadata": {},
   "outputs": [
    {
     "output_type": "execute_result",
     "data": {
      "text/plain": "   id                name        date   manner_of_death       armed   age  \\\n0   3          Tim Elliot  2015-01-02              shot         gun  53.0   \n1   4    Lewis Lee Lembke  2015-01-02              shot         gun  47.0   \n2   5  John Paul Quintero  2015-01-03  shot and Tasered     unarmed  23.0   \n3   8     Matthew Hoffman  2015-01-04              shot  toy weapon  32.0   \n4   9   Michael Rodriguez  2015-01-04              shot    nail gun  39.0   \n\n  gender race           city state  signs_of_mental_illness threat_level  \\\n0      M    A        Shelton    WA                     True       attack   \n1      M    W          Aloha    OR                    False       attack   \n2      M    H        Wichita    KS                    False        other   \n3      M    W  San Francisco    CA                     True       attack   \n4      M    H          Evans    CO                    False       attack   \n\n          flee  body_camera  \n0  Not fleeing        False  \n1  Not fleeing        False  \n2  Not fleeing        False  \n3  Not fleeing        False  \n4  Not fleeing        False  ",
      "text/html": "<div>\n<style scoped>\n    .dataframe tbody tr th:only-of-type {\n        vertical-align: middle;\n    }\n\n    .dataframe tbody tr th {\n        vertical-align: top;\n    }\n\n    .dataframe thead th {\n        text-align: right;\n    }\n</style>\n<table border=\"1\" class=\"dataframe\">\n  <thead>\n    <tr style=\"text-align: right;\">\n      <th></th>\n      <th>id</th>\n      <th>name</th>\n      <th>date</th>\n      <th>manner_of_death</th>\n      <th>armed</th>\n      <th>age</th>\n      <th>gender</th>\n      <th>race</th>\n      <th>city</th>\n      <th>state</th>\n      <th>signs_of_mental_illness</th>\n      <th>threat_level</th>\n      <th>flee</th>\n      <th>body_camera</th>\n    </tr>\n  </thead>\n  <tbody>\n    <tr>\n      <th>0</th>\n      <td>3</td>\n      <td>Tim Elliot</td>\n      <td>2015-01-02</td>\n      <td>shot</td>\n      <td>gun</td>\n      <td>53.0</td>\n      <td>M</td>\n      <td>A</td>\n      <td>Shelton</td>\n      <td>WA</td>\n      <td>True</td>\n      <td>attack</td>\n      <td>Not fleeing</td>\n      <td>False</td>\n    </tr>\n    <tr>\n      <th>1</th>\n      <td>4</td>\n      <td>Lewis Lee Lembke</td>\n      <td>2015-01-02</td>\n      <td>shot</td>\n      <td>gun</td>\n      <td>47.0</td>\n      <td>M</td>\n      <td>W</td>\n      <td>Aloha</td>\n      <td>OR</td>\n      <td>False</td>\n      <td>attack</td>\n      <td>Not fleeing</td>\n      <td>False</td>\n    </tr>\n    <tr>\n      <th>2</th>\n      <td>5</td>\n      <td>John Paul Quintero</td>\n      <td>2015-01-03</td>\n      <td>shot and Tasered</td>\n      <td>unarmed</td>\n      <td>23.0</td>\n      <td>M</td>\n      <td>H</td>\n      <td>Wichita</td>\n      <td>KS</td>\n      <td>False</td>\n      <td>other</td>\n      <td>Not fleeing</td>\n      <td>False</td>\n    </tr>\n    <tr>\n      <th>3</th>\n      <td>8</td>\n      <td>Matthew Hoffman</td>\n      <td>2015-01-04</td>\n      <td>shot</td>\n      <td>toy weapon</td>\n      <td>32.0</td>\n      <td>M</td>\n      <td>W</td>\n      <td>San Francisco</td>\n      <td>CA</td>\n      <td>True</td>\n      <td>attack</td>\n      <td>Not fleeing</td>\n      <td>False</td>\n    </tr>\n    <tr>\n      <th>4</th>\n      <td>9</td>\n      <td>Michael Rodriguez</td>\n      <td>2015-01-04</td>\n      <td>shot</td>\n      <td>nail gun</td>\n      <td>39.0</td>\n      <td>M</td>\n      <td>H</td>\n      <td>Evans</td>\n      <td>CO</td>\n      <td>False</td>\n      <td>attack</td>\n      <td>Not fleeing</td>\n      <td>False</td>\n    </tr>\n  </tbody>\n</table>\n</div>"
     },
     "metadata": {},
     "execution_count": 2
    }
   ],
   "source": [
    "df_shootings=pd.read_csv(\"fatal-police-shootings-data.csv\")\n",
    "df_shootings.head()"
   ]
  },
  {
   "cell_type": "code",
   "execution_count": 3,
   "metadata": {},
   "outputs": [
    {
     "output_type": "execute_result",
     "data": {
      "text/plain": "        id                   name        date manner_of_death       armed  \\\n3        8        Matthew Hoffman  2015-01-04            shot  toy weapon   \n9       17        Leslie Sapp III  2015-01-06            shot  toy weapon   \n50      99            Tiano Meton  2015-01-22            shot  toy weapon   \n91     532           John  Sawyer  2015-02-07            shot  toy weapon   \n104    142   Fletcher Ray Stewart  2015-02-11            shot  toy weapon   \n...    ...                    ...         ...             ...         ...   \n5345  5884         Reymar Gagarin  2020-05-25            shot  toy weapon   \n5347  5854     Richard Councilman  2020-05-26            shot  toy weapon   \n5349  5860        Kenneth Bennett  2020-05-26            shot  toy weapon   \n5368  5845                  TK TK  2020-05-29            shot  toy weapon   \n5407  5922  Anthony Angel Armenta  2020-06-13            shot  toy weapon   \n\n       age gender race            city state  signs_of_mental_illness  \\\n3     32.0      M    W   San Francisco    CA                     True   \n9     47.0      M    B       Knoxville    PA                    False   \n50    25.0      M    B   Sierra Blanca    TX                    False   \n91    26.0      M    W        Calimesa    CA                    False   \n104   46.0      M    W       Dadeville    AL                     True   \n...    ...    ...  ...             ...   ...                      ...   \n5345  35.0      M  NaN         Modesto    CA                     True   \n5347   NaN      M  NaN       Jamestown    CA                     True   \n5349  61.0      M  NaN         Manlius    NY                     True   \n5368   NaN      M    W       Lancaster    CA                    False   \n5407  21.0      M    H  San Bernardino    CA                    False   \n\n     threat_level         flee  body_camera  \n3          attack  Not fleeing        False  \n9          attack  Not fleeing        False  \n50         attack          Car        False  \n91         attack  Not fleeing        False  \n104        attack         Foot         True  \n...           ...          ...          ...  \n5345       attack  Not fleeing         True  \n5347        other  Not fleeing        False  \n5349       attack  Not fleeing        False  \n5368       attack          NaN        False  \n5407       attack  Not fleeing        False  \n\n[187 rows x 14 columns]",
      "text/html": "<div>\n<style scoped>\n    .dataframe tbody tr th:only-of-type {\n        vertical-align: middle;\n    }\n\n    .dataframe tbody tr th {\n        vertical-align: top;\n    }\n\n    .dataframe thead th {\n        text-align: right;\n    }\n</style>\n<table border=\"1\" class=\"dataframe\">\n  <thead>\n    <tr style=\"text-align: right;\">\n      <th></th>\n      <th>id</th>\n      <th>name</th>\n      <th>date</th>\n      <th>manner_of_death</th>\n      <th>armed</th>\n      <th>age</th>\n      <th>gender</th>\n      <th>race</th>\n      <th>city</th>\n      <th>state</th>\n      <th>signs_of_mental_illness</th>\n      <th>threat_level</th>\n      <th>flee</th>\n      <th>body_camera</th>\n    </tr>\n  </thead>\n  <tbody>\n    <tr>\n      <th>3</th>\n      <td>8</td>\n      <td>Matthew Hoffman</td>\n      <td>2015-01-04</td>\n      <td>shot</td>\n      <td>toy weapon</td>\n      <td>32.0</td>\n      <td>M</td>\n      <td>W</td>\n      <td>San Francisco</td>\n      <td>CA</td>\n      <td>True</td>\n      <td>attack</td>\n      <td>Not fleeing</td>\n      <td>False</td>\n    </tr>\n    <tr>\n      <th>9</th>\n      <td>17</td>\n      <td>Leslie Sapp III</td>\n      <td>2015-01-06</td>\n      <td>shot</td>\n      <td>toy weapon</td>\n      <td>47.0</td>\n      <td>M</td>\n      <td>B</td>\n      <td>Knoxville</td>\n      <td>PA</td>\n      <td>False</td>\n      <td>attack</td>\n      <td>Not fleeing</td>\n      <td>False</td>\n    </tr>\n    <tr>\n      <th>50</th>\n      <td>99</td>\n      <td>Tiano Meton</td>\n      <td>2015-01-22</td>\n      <td>shot</td>\n      <td>toy weapon</td>\n      <td>25.0</td>\n      <td>M</td>\n      <td>B</td>\n      <td>Sierra Blanca</td>\n      <td>TX</td>\n      <td>False</td>\n      <td>attack</td>\n      <td>Car</td>\n      <td>False</td>\n    </tr>\n    <tr>\n      <th>91</th>\n      <td>532</td>\n      <td>John  Sawyer</td>\n      <td>2015-02-07</td>\n      <td>shot</td>\n      <td>toy weapon</td>\n      <td>26.0</td>\n      <td>M</td>\n      <td>W</td>\n      <td>Calimesa</td>\n      <td>CA</td>\n      <td>False</td>\n      <td>attack</td>\n      <td>Not fleeing</td>\n      <td>False</td>\n    </tr>\n    <tr>\n      <th>104</th>\n      <td>142</td>\n      <td>Fletcher Ray Stewart</td>\n      <td>2015-02-11</td>\n      <td>shot</td>\n      <td>toy weapon</td>\n      <td>46.0</td>\n      <td>M</td>\n      <td>W</td>\n      <td>Dadeville</td>\n      <td>AL</td>\n      <td>True</td>\n      <td>attack</td>\n      <td>Foot</td>\n      <td>True</td>\n    </tr>\n    <tr>\n      <th>...</th>\n      <td>...</td>\n      <td>...</td>\n      <td>...</td>\n      <td>...</td>\n      <td>...</td>\n      <td>...</td>\n      <td>...</td>\n      <td>...</td>\n      <td>...</td>\n      <td>...</td>\n      <td>...</td>\n      <td>...</td>\n      <td>...</td>\n      <td>...</td>\n    </tr>\n    <tr>\n      <th>5345</th>\n      <td>5884</td>\n      <td>Reymar Gagarin</td>\n      <td>2020-05-25</td>\n      <td>shot</td>\n      <td>toy weapon</td>\n      <td>35.0</td>\n      <td>M</td>\n      <td>NaN</td>\n      <td>Modesto</td>\n      <td>CA</td>\n      <td>True</td>\n      <td>attack</td>\n      <td>Not fleeing</td>\n      <td>True</td>\n    </tr>\n    <tr>\n      <th>5347</th>\n      <td>5854</td>\n      <td>Richard Councilman</td>\n      <td>2020-05-26</td>\n      <td>shot</td>\n      <td>toy weapon</td>\n      <td>NaN</td>\n      <td>M</td>\n      <td>NaN</td>\n      <td>Jamestown</td>\n      <td>CA</td>\n      <td>True</td>\n      <td>other</td>\n      <td>Not fleeing</td>\n      <td>False</td>\n    </tr>\n    <tr>\n      <th>5349</th>\n      <td>5860</td>\n      <td>Kenneth Bennett</td>\n      <td>2020-05-26</td>\n      <td>shot</td>\n      <td>toy weapon</td>\n      <td>61.0</td>\n      <td>M</td>\n      <td>NaN</td>\n      <td>Manlius</td>\n      <td>NY</td>\n      <td>True</td>\n      <td>attack</td>\n      <td>Not fleeing</td>\n      <td>False</td>\n    </tr>\n    <tr>\n      <th>5368</th>\n      <td>5845</td>\n      <td>TK TK</td>\n      <td>2020-05-29</td>\n      <td>shot</td>\n      <td>toy weapon</td>\n      <td>NaN</td>\n      <td>M</td>\n      <td>W</td>\n      <td>Lancaster</td>\n      <td>CA</td>\n      <td>False</td>\n      <td>attack</td>\n      <td>NaN</td>\n      <td>False</td>\n    </tr>\n    <tr>\n      <th>5407</th>\n      <td>5922</td>\n      <td>Anthony Angel Armenta</td>\n      <td>2020-06-13</td>\n      <td>shot</td>\n      <td>toy weapon</td>\n      <td>21.0</td>\n      <td>M</td>\n      <td>H</td>\n      <td>San Bernardino</td>\n      <td>CA</td>\n      <td>False</td>\n      <td>attack</td>\n      <td>Not fleeing</td>\n      <td>False</td>\n    </tr>\n  </tbody>\n</table>\n<p>187 rows × 14 columns</p>\n</div>"
     },
     "metadata": {},
     "execution_count": 3
    }
   ],
   "source": [
    "df_toy=df_shootings[df_shootings[\"armed\"]==\"toy weapon\"]\n",
    "df_toy"
   ]
  },
  {
   "cell_type": "code",
   "execution_count": 10,
   "metadata": {},
   "outputs": [
    {
     "output_type": "execute_result",
     "data": {
      "text/plain": "W    99\nB    37\nH    33\nA     2\nN     1\nName: race, dtype: int64"
     },
     "metadata": {},
     "execution_count": 10
    }
   ],
   "source": [
    "df_toy['race'].value_counts()"
   ]
  },
  {
   "cell_type": "code",
   "execution_count": 6,
   "metadata": {},
   "outputs": [],
   "source": [
    "df_toy_NA_FL=df_toy[(df_toy[\"threat_level\"]!=\"attack\")&(df_toy[\"flee\"]!=\"Not fleeing\")]"
   ]
  },
  {
   "cell_type": "code",
   "execution_count": 7,
   "metadata": {},
   "outputs": [
    {
     "output_type": "execute_result",
     "data": {
      "text/plain": "        id                    name        date manner_of_death       armed  \\\n1007  1150       Charles Hollstein  2016-01-06            shot  toy weapon   \n1026  1172         Alfred Longoria  2016-01-16            shot  toy weapon   \n1122  1281             Paul Gaston  2016-02-17            shot  toy weapon   \n1482  1669          Raymond Hutson  2016-06-27            shot  toy weapon   \n1681  1883               Tyre King  2016-09-14            shot  toy weapon   \n2077  2316   Quanice Derrick Hayes  2017-02-09            shot  toy weapon   \n3068  3397       Steven Tyler Reed  2018-02-10            shot  toy weapon   \n3356  3679  Phillip Cameron Gibson  2018-05-08            shot  toy weapon   \n3406  3733      Zane Anthony James  2018-05-29            shot  toy weapon   \n3548  3947    Eliuth Penaloza Nava  2018-07-21            shot  toy weapon   \n3945  4507    John Richard Camacho  2019-01-04            shot  toy weapon   \n3984  4386            Antonio Arce  2019-01-15            shot  toy weapon   \n4601  5016           Bennie Branch  2019-09-08            shot  toy weapon   \n\n       age gender race                city state  signs_of_mental_illness  \\\n1007  38.0      M    W                Zion    IL                     True   \n1026  34.0      M    H     Hollywood Hills    CA                    False   \n1122  37.0      M    B          Cincinnati    OH                    False   \n1482  25.0      M    W           Frederica    DE                    False   \n1681  13.0      M    B            Columbus    OH                    False   \n2077  17.0      M    B            Portland    OR                    False   \n3068  25.0      M    W            Columbus    OH                    False   \n3356  37.0      M    W        Glade Spring    VA                    False   \n3406  19.0      M    W  Cottonwood Heights    UT                    False   \n3548  50.0      M    H             Anaheim    CA                     True   \n3945  27.0      M    W          San Marcos    TX                    False   \n3984  14.0      M    H               Tempe    AZ                    False   \n4601  24.0      M    B              Tacoma    WA                    False   \n\n      threat_level   flee  body_camera  \n1007         other   Foot        False  \n1026         other   Foot        False  \n1122         other  Other        False  \n1482         other    Car        False  \n1681         other   Foot        False  \n2077  undetermined   Foot        False  \n3068  undetermined   Foot        False  \n3356         other  Other        False  \n3406         other   Foot        False  \n3548         other   Foot        False  \n3945         other    Car        False  \n3984         other   Foot         True  \n4601  undetermined   Foot        False  ",
      "text/html": "<div>\n<style scoped>\n    .dataframe tbody tr th:only-of-type {\n        vertical-align: middle;\n    }\n\n    .dataframe tbody tr th {\n        vertical-align: top;\n    }\n\n    .dataframe thead th {\n        text-align: right;\n    }\n</style>\n<table border=\"1\" class=\"dataframe\">\n  <thead>\n    <tr style=\"text-align: right;\">\n      <th></th>\n      <th>id</th>\n      <th>name</th>\n      <th>date</th>\n      <th>manner_of_death</th>\n      <th>armed</th>\n      <th>age</th>\n      <th>gender</th>\n      <th>race</th>\n      <th>city</th>\n      <th>state</th>\n      <th>signs_of_mental_illness</th>\n      <th>threat_level</th>\n      <th>flee</th>\n      <th>body_camera</th>\n    </tr>\n  </thead>\n  <tbody>\n    <tr>\n      <th>1007</th>\n      <td>1150</td>\n      <td>Charles Hollstein</td>\n      <td>2016-01-06</td>\n      <td>shot</td>\n      <td>toy weapon</td>\n      <td>38.0</td>\n      <td>M</td>\n      <td>W</td>\n      <td>Zion</td>\n      <td>IL</td>\n      <td>True</td>\n      <td>other</td>\n      <td>Foot</td>\n      <td>False</td>\n    </tr>\n    <tr>\n      <th>1026</th>\n      <td>1172</td>\n      <td>Alfred Longoria</td>\n      <td>2016-01-16</td>\n      <td>shot</td>\n      <td>toy weapon</td>\n      <td>34.0</td>\n      <td>M</td>\n      <td>H</td>\n      <td>Hollywood Hills</td>\n      <td>CA</td>\n      <td>False</td>\n      <td>other</td>\n      <td>Foot</td>\n      <td>False</td>\n    </tr>\n    <tr>\n      <th>1122</th>\n      <td>1281</td>\n      <td>Paul Gaston</td>\n      <td>2016-02-17</td>\n      <td>shot</td>\n      <td>toy weapon</td>\n      <td>37.0</td>\n      <td>M</td>\n      <td>B</td>\n      <td>Cincinnati</td>\n      <td>OH</td>\n      <td>False</td>\n      <td>other</td>\n      <td>Other</td>\n      <td>False</td>\n    </tr>\n    <tr>\n      <th>1482</th>\n      <td>1669</td>\n      <td>Raymond Hutson</td>\n      <td>2016-06-27</td>\n      <td>shot</td>\n      <td>toy weapon</td>\n      <td>25.0</td>\n      <td>M</td>\n      <td>W</td>\n      <td>Frederica</td>\n      <td>DE</td>\n      <td>False</td>\n      <td>other</td>\n      <td>Car</td>\n      <td>False</td>\n    </tr>\n    <tr>\n      <th>1681</th>\n      <td>1883</td>\n      <td>Tyre King</td>\n      <td>2016-09-14</td>\n      <td>shot</td>\n      <td>toy weapon</td>\n      <td>13.0</td>\n      <td>M</td>\n      <td>B</td>\n      <td>Columbus</td>\n      <td>OH</td>\n      <td>False</td>\n      <td>other</td>\n      <td>Foot</td>\n      <td>False</td>\n    </tr>\n    <tr>\n      <th>2077</th>\n      <td>2316</td>\n      <td>Quanice Derrick Hayes</td>\n      <td>2017-02-09</td>\n      <td>shot</td>\n      <td>toy weapon</td>\n      <td>17.0</td>\n      <td>M</td>\n      <td>B</td>\n      <td>Portland</td>\n      <td>OR</td>\n      <td>False</td>\n      <td>undetermined</td>\n      <td>Foot</td>\n      <td>False</td>\n    </tr>\n    <tr>\n      <th>3068</th>\n      <td>3397</td>\n      <td>Steven Tyler Reed</td>\n      <td>2018-02-10</td>\n      <td>shot</td>\n      <td>toy weapon</td>\n      <td>25.0</td>\n      <td>M</td>\n      <td>W</td>\n      <td>Columbus</td>\n      <td>OH</td>\n      <td>False</td>\n      <td>undetermined</td>\n      <td>Foot</td>\n      <td>False</td>\n    </tr>\n    <tr>\n      <th>3356</th>\n      <td>3679</td>\n      <td>Phillip Cameron Gibson</td>\n      <td>2018-05-08</td>\n      <td>shot</td>\n      <td>toy weapon</td>\n      <td>37.0</td>\n      <td>M</td>\n      <td>W</td>\n      <td>Glade Spring</td>\n      <td>VA</td>\n      <td>False</td>\n      <td>other</td>\n      <td>Other</td>\n      <td>False</td>\n    </tr>\n    <tr>\n      <th>3406</th>\n      <td>3733</td>\n      <td>Zane Anthony James</td>\n      <td>2018-05-29</td>\n      <td>shot</td>\n      <td>toy weapon</td>\n      <td>19.0</td>\n      <td>M</td>\n      <td>W</td>\n      <td>Cottonwood Heights</td>\n      <td>UT</td>\n      <td>False</td>\n      <td>other</td>\n      <td>Foot</td>\n      <td>False</td>\n    </tr>\n    <tr>\n      <th>3548</th>\n      <td>3947</td>\n      <td>Eliuth Penaloza Nava</td>\n      <td>2018-07-21</td>\n      <td>shot</td>\n      <td>toy weapon</td>\n      <td>50.0</td>\n      <td>M</td>\n      <td>H</td>\n      <td>Anaheim</td>\n      <td>CA</td>\n      <td>True</td>\n      <td>other</td>\n      <td>Foot</td>\n      <td>False</td>\n    </tr>\n    <tr>\n      <th>3945</th>\n      <td>4507</td>\n      <td>John Richard Camacho</td>\n      <td>2019-01-04</td>\n      <td>shot</td>\n      <td>toy weapon</td>\n      <td>27.0</td>\n      <td>M</td>\n      <td>W</td>\n      <td>San Marcos</td>\n      <td>TX</td>\n      <td>False</td>\n      <td>other</td>\n      <td>Car</td>\n      <td>False</td>\n    </tr>\n    <tr>\n      <th>3984</th>\n      <td>4386</td>\n      <td>Antonio Arce</td>\n      <td>2019-01-15</td>\n      <td>shot</td>\n      <td>toy weapon</td>\n      <td>14.0</td>\n      <td>M</td>\n      <td>H</td>\n      <td>Tempe</td>\n      <td>AZ</td>\n      <td>False</td>\n      <td>other</td>\n      <td>Foot</td>\n      <td>True</td>\n    </tr>\n    <tr>\n      <th>4601</th>\n      <td>5016</td>\n      <td>Bennie Branch</td>\n      <td>2019-09-08</td>\n      <td>shot</td>\n      <td>toy weapon</td>\n      <td>24.0</td>\n      <td>M</td>\n      <td>B</td>\n      <td>Tacoma</td>\n      <td>WA</td>\n      <td>False</td>\n      <td>undetermined</td>\n      <td>Foot</td>\n      <td>False</td>\n    </tr>\n  </tbody>\n</table>\n</div>"
     },
     "metadata": {},
     "execution_count": 7
    }
   ],
   "source": [
    "df_toy_NA_FL"
   ]
  },
  {
   "cell_type": "code",
   "execution_count": 8,
   "metadata": {},
   "outputs": [
    {
     "output_type": "execute_result",
     "data": {
      "text/plain": "W    6\nB    4\nH    3\nName: race, dtype: int64"
     },
     "metadata": {},
     "execution_count": 8
    }
   ],
   "source": [
    "df_toy_NA_FL[\"race\"].value_counts()"
   ]
  },
  {
   "cell_type": "code",
   "execution_count": 11,
   "metadata": {},
   "outputs": [
    {
     "output_type": "execute_result",
     "data": {
      "text/plain": "(5437, 14)"
     },
     "metadata": {},
     "execution_count": 11
    }
   ],
   "source": [
    "df_shootings.shape"
   ]
  },
  {
   "cell_type": "code",
   "execution_count": 12,
   "metadata": {},
   "outputs": [
    {
     "output_type": "execute_result",
     "data": {
      "text/plain": "W    2485\nB    1298\nH     904\nA      94\nN      78\nO      48\nName: race, dtype: int64"
     },
     "metadata": {},
     "execution_count": 12
    }
   ],
   "source": [
    "df_shootings[\"race\"].value_counts()"
   ]
  },
  {
   "cell_type": "code",
   "execution_count": 13,
   "metadata": {
    "tags": []
   },
   "outputs": [
    {
     "output_type": "stream",
     "name": "stdout",
     "text": "White %\n0.4570535221629575\n\nBlack %\n0.23873459628471583\n"
    }
   ],
   "source": [
    "print(\"White %\")\n",
    "print(2485/5437)\n",
    "print()\n",
    "print(\"Black %\")\n",
    "print(1298/5437)"
   ]
  },
  {
   "cell_type": "code",
   "execution_count": 14,
   "metadata": {},
   "outputs": [],
   "source": [
    "df_shootings_attack=df_shootings[df_shootings[\"threat_level\"]==\"attack\"]"
   ]
  },
  {
   "cell_type": "code",
   "execution_count": 15,
   "metadata": {},
   "outputs": [
    {
     "output_type": "execute_result",
     "data": {
      "text/plain": "(3512, 14)"
     },
     "metadata": {},
     "execution_count": 15
    }
   ],
   "source": [
    "df_shootings_attack.shape"
   ]
  },
  {
   "cell_type": "code",
   "execution_count": 16,
   "metadata": {},
   "outputs": [
    {
     "output_type": "execute_result",
     "data": {
      "text/plain": "W    1647\nB     873\nH     523\nA      51\nN      44\nO      31\nName: race, dtype: int64"
     },
     "metadata": {},
     "execution_count": 16
    }
   ],
   "source": [
    "df_shootings_attack[\"race\"].value_counts()"
   ]
  },
  {
   "cell_type": "code",
   "execution_count": 17,
   "metadata": {},
   "outputs": [
    {
     "output_type": "execute_result",
     "data": {
      "text/plain": "0.4689635535307517"
     },
     "metadata": {},
     "execution_count": 17
    }
   ],
   "source": [
    "1647/3512"
   ]
  },
  {
   "cell_type": "code",
   "execution_count": 18,
   "metadata": {},
   "outputs": [
    {
     "output_type": "execute_result",
     "data": {
      "text/plain": "0.2485763097949886"
     },
     "metadata": {},
     "execution_count": 18
    }
   ],
   "source": [
    "873/3512"
   ]
  },
  {
   "cell_type": "code",
   "execution_count": 19,
   "metadata": {},
   "outputs": [
    {
     "output_type": "execute_result",
     "data": {
      "text/plain": "(353, 14)"
     },
     "metadata": {},
     "execution_count": 19
    }
   ],
   "source": [
    "df_shoot_unarmed=df_shootings[df_shootings[\"armed\"]==\"unarmed\"]\n",
    "df_shoot_unarmed.shape"
   ]
  },
  {
   "cell_type": "code",
   "execution_count": 20,
   "metadata": {},
   "outputs": [
    {
     "output_type": "execute_result",
     "data": {
      "text/plain": "W    146\nB    123\nH     63\nA      7\nO      5\nN      4\nName: race, dtype: int64"
     },
     "metadata": {},
     "execution_count": 20
    }
   ],
   "source": [
    "df_shoot_unarmed[\"race\"].value_counts()"
   ]
  },
  {
   "cell_type": "code",
   "execution_count": 21,
   "metadata": {
    "tags": []
   },
   "outputs": [
    {
     "output_type": "stream",
     "name": "stdout",
     "text": "(2012, 14)\n"
    },
    {
     "output_type": "execute_result",
     "data": {
      "text/plain": "W    825\nB    562\nH    369\nN     31\nA     22\nO     18\nName: race, dtype: int64"
     },
     "metadata": {},
     "execution_count": 21
    }
   ],
   "source": [
    "df_flee=df_shootings[df_shootings[\"flee\"]!=\"Not fleeing\"]\n",
    "print(df_flee.shape)\n",
    "df_flee['race'].value_counts()"
   ]
  },
  {
   "cell_type": "code",
   "execution_count": 22,
   "metadata": {},
   "outputs": [
    {
     "output_type": "execute_result",
     "data": {
      "text/plain": "      id                     name        date   manner_of_death    armed  \\\n62   352       Joshua Omar Garcia  2015-01-26              shot  unarmed   \n72   342             Ralph Willis  2015-01-29              shot  unarmed   \n76   114            David Kassick  2015-02-02              shot  unarmed   \n102  138  Antonio Zambrano-Montes  2015-02-10  shot and Tasered  unarmed   \n119  159          Michael Ireland  2015-02-17              shot  unarmed   \n\n      age gender race         city state  signs_of_mental_illness  \\\n62   24.0      M    H       Tahoka    TX                    False   \n72   42.0      M    W   Stillwater    OK                    False   \n76   59.0      M    W  Hummelstown    PA                    False   \n102  35.0      M    H        Pasco    WA                     True   \n119  31.0      M    W  Springfield    MO                    False   \n\n    threat_level  flee  body_camera  \n62         other   Car        False  \n72         other  Foot        False  \n76         other  Foot        False  \n102        other  Foot        False  \n119        other  Foot        False  ",
      "text/html": "<div>\n<style scoped>\n    .dataframe tbody tr th:only-of-type {\n        vertical-align: middle;\n    }\n\n    .dataframe tbody tr th {\n        vertical-align: top;\n    }\n\n    .dataframe thead th {\n        text-align: right;\n    }\n</style>\n<table border=\"1\" class=\"dataframe\">\n  <thead>\n    <tr style=\"text-align: right;\">\n      <th></th>\n      <th>id</th>\n      <th>name</th>\n      <th>date</th>\n      <th>manner_of_death</th>\n      <th>armed</th>\n      <th>age</th>\n      <th>gender</th>\n      <th>race</th>\n      <th>city</th>\n      <th>state</th>\n      <th>signs_of_mental_illness</th>\n      <th>threat_level</th>\n      <th>flee</th>\n      <th>body_camera</th>\n    </tr>\n  </thead>\n  <tbody>\n    <tr>\n      <th>62</th>\n      <td>352</td>\n      <td>Joshua Omar Garcia</td>\n      <td>2015-01-26</td>\n      <td>shot</td>\n      <td>unarmed</td>\n      <td>24.0</td>\n      <td>M</td>\n      <td>H</td>\n      <td>Tahoka</td>\n      <td>TX</td>\n      <td>False</td>\n      <td>other</td>\n      <td>Car</td>\n      <td>False</td>\n    </tr>\n    <tr>\n      <th>72</th>\n      <td>342</td>\n      <td>Ralph Willis</td>\n      <td>2015-01-29</td>\n      <td>shot</td>\n      <td>unarmed</td>\n      <td>42.0</td>\n      <td>M</td>\n      <td>W</td>\n      <td>Stillwater</td>\n      <td>OK</td>\n      <td>False</td>\n      <td>other</td>\n      <td>Foot</td>\n      <td>False</td>\n    </tr>\n    <tr>\n      <th>76</th>\n      <td>114</td>\n      <td>David Kassick</td>\n      <td>2015-02-02</td>\n      <td>shot</td>\n      <td>unarmed</td>\n      <td>59.0</td>\n      <td>M</td>\n      <td>W</td>\n      <td>Hummelstown</td>\n      <td>PA</td>\n      <td>False</td>\n      <td>other</td>\n      <td>Foot</td>\n      <td>False</td>\n    </tr>\n    <tr>\n      <th>102</th>\n      <td>138</td>\n      <td>Antonio Zambrano-Montes</td>\n      <td>2015-02-10</td>\n      <td>shot and Tasered</td>\n      <td>unarmed</td>\n      <td>35.0</td>\n      <td>M</td>\n      <td>H</td>\n      <td>Pasco</td>\n      <td>WA</td>\n      <td>True</td>\n      <td>other</td>\n      <td>Foot</td>\n      <td>False</td>\n    </tr>\n    <tr>\n      <th>119</th>\n      <td>159</td>\n      <td>Michael Ireland</td>\n      <td>2015-02-17</td>\n      <td>shot</td>\n      <td>unarmed</td>\n      <td>31.0</td>\n      <td>M</td>\n      <td>W</td>\n      <td>Springfield</td>\n      <td>MO</td>\n      <td>False</td>\n      <td>other</td>\n      <td>Foot</td>\n      <td>False</td>\n    </tr>\n  </tbody>\n</table>\n</div>"
     },
     "metadata": {},
     "execution_count": 22
    }
   ],
   "source": [
    "df_shoot_unarmed_flee=df_shoot_unarmed[df_shoot_unarmed[\"flee\"]!=\"Not fleeing\"]\n",
    "df_shoot_unarmed_flee.head()"
   ]
  },
  {
   "cell_type": "code",
   "execution_count": 23,
   "metadata": {},
   "outputs": [
    {
     "output_type": "execute_result",
     "data": {
      "text/plain": "(162, 14)"
     },
     "metadata": {},
     "execution_count": 23
    }
   ],
   "source": [
    "df_shoot_unarmed_flee.shape"
   ]
  },
  {
   "cell_type": "code",
   "execution_count": 24,
   "metadata": {},
   "outputs": [
    {
     "output_type": "execute_result",
     "data": {
      "text/plain": "B    68\nW    55\nH    32\nA     3\nN     2\nO     1\nName: race, dtype: int64"
     },
     "metadata": {},
     "execution_count": 24
    }
   ],
   "source": [
    "df_shoot_unarmed_flee[\"race\"].value_counts()"
   ]
  },
  {
   "cell_type": "code",
   "execution_count": 25,
   "metadata": {
    "tags": []
   },
   "outputs": [
    {
     "output_type": "stream",
     "name": "stdout",
     "text": "Black percent unarmed fleeing =  0.41975308641975306\nWhite percent unarmed fleeing =  0.3395061728395062\n"
    }
   ],
   "source": [
    "print(\"Black percent unarmed fleeing = \", 68/162)\n",
    "print(\"White percent unarmed fleeing = \", 55/162)"
   ]
  },
  {
   "cell_type": "code",
   "execution_count": 26,
   "metadata": {
    "tags": []
   },
   "outputs": [
    {
     "output_type": "stream",
     "name": "stdout",
     "text": "(3512, 14)\n"
    },
    {
     "output_type": "execute_result",
     "data": {
      "text/plain": "W    1647\nB     873\nH     523\nA      51\nN      44\nO      31\nName: race, dtype: int64"
     },
     "metadata": {},
     "execution_count": 26
    }
   ],
   "source": [
    "df_AT=df_shootings[df_shootings[\"threat_level\"]==\"attack\"]\n",
    "print(df_AT.shape)\n",
    "df_AT[\"race\"].value_counts()"
   ]
  },
  {
   "cell_type": "code",
   "execution_count": 27,
   "metadata": {
    "tags": []
   },
   "outputs": [
    {
     "output_type": "stream",
     "name": "stdout",
     "text": "Black % that Attacks =  0.2485763097949886\n White % that Attacks =  0.4689635535307517\n"
    }
   ],
   "source": [
    "print(\"Black % that Attacks = \", 873/3512)\n",
    "print(\" White % that Attacks = \", 1647/3512)"
   ]
  },
  {
   "cell_type": "code",
   "execution_count": 28,
   "metadata": {},
   "outputs": [
    {
     "output_type": "execute_result",
     "data": {
      "text/plain": "    id                            name        date   manner_of_death    armed  \\\n2    5              John Paul Quintero  2015-01-03  shot and Tasered  unarmed   \n8   16                   Autumn Steele  2015-01-06              shot  unarmed   \n12  22  Hashim Hanif Ibn Abdul-Rasheed  2015-01-07              shot    knife   \n15  29                   Loren Simpson  2015-01-08              shot      NaN   \n25  48               Richard McClendon  2015-01-13              shot    knife   \n\n     age gender race        city state  signs_of_mental_illness  threat_level  \\\n2   23.0      M    H     Wichita    KS                    False         other   \n8   34.0      F    W  Burlington    IA                    False         other   \n12  41.0      M    B    Columbus    OH                     True         other   \n15  28.0      M    W     Huntley    MT                    False  undetermined   \n25  43.0      M    W  Jourdanton    TX                     True         other   \n\n           flee  body_camera  \n2   Not fleeing        False  \n8   Not fleeing         True  \n12  Not fleeing        False  \n15  Not fleeing        False  \n25  Not fleeing        False  ",
      "text/html": "<div>\n<style scoped>\n    .dataframe tbody tr th:only-of-type {\n        vertical-align: middle;\n    }\n\n    .dataframe tbody tr th {\n        vertical-align: top;\n    }\n\n    .dataframe thead th {\n        text-align: right;\n    }\n</style>\n<table border=\"1\" class=\"dataframe\">\n  <thead>\n    <tr style=\"text-align: right;\">\n      <th></th>\n      <th>id</th>\n      <th>name</th>\n      <th>date</th>\n      <th>manner_of_death</th>\n      <th>armed</th>\n      <th>age</th>\n      <th>gender</th>\n      <th>race</th>\n      <th>city</th>\n      <th>state</th>\n      <th>signs_of_mental_illness</th>\n      <th>threat_level</th>\n      <th>flee</th>\n      <th>body_camera</th>\n    </tr>\n  </thead>\n  <tbody>\n    <tr>\n      <th>2</th>\n      <td>5</td>\n      <td>John Paul Quintero</td>\n      <td>2015-01-03</td>\n      <td>shot and Tasered</td>\n      <td>unarmed</td>\n      <td>23.0</td>\n      <td>M</td>\n      <td>H</td>\n      <td>Wichita</td>\n      <td>KS</td>\n      <td>False</td>\n      <td>other</td>\n      <td>Not fleeing</td>\n      <td>False</td>\n    </tr>\n    <tr>\n      <th>8</th>\n      <td>16</td>\n      <td>Autumn Steele</td>\n      <td>2015-01-06</td>\n      <td>shot</td>\n      <td>unarmed</td>\n      <td>34.0</td>\n      <td>F</td>\n      <td>W</td>\n      <td>Burlington</td>\n      <td>IA</td>\n      <td>False</td>\n      <td>other</td>\n      <td>Not fleeing</td>\n      <td>True</td>\n    </tr>\n    <tr>\n      <th>12</th>\n      <td>22</td>\n      <td>Hashim Hanif Ibn Abdul-Rasheed</td>\n      <td>2015-01-07</td>\n      <td>shot</td>\n      <td>knife</td>\n      <td>41.0</td>\n      <td>M</td>\n      <td>B</td>\n      <td>Columbus</td>\n      <td>OH</td>\n      <td>True</td>\n      <td>other</td>\n      <td>Not fleeing</td>\n      <td>False</td>\n    </tr>\n    <tr>\n      <th>15</th>\n      <td>29</td>\n      <td>Loren Simpson</td>\n      <td>2015-01-08</td>\n      <td>shot</td>\n      <td>NaN</td>\n      <td>28.0</td>\n      <td>M</td>\n      <td>W</td>\n      <td>Huntley</td>\n      <td>MT</td>\n      <td>False</td>\n      <td>undetermined</td>\n      <td>Not fleeing</td>\n      <td>False</td>\n    </tr>\n    <tr>\n      <th>25</th>\n      <td>48</td>\n      <td>Richard McClendon</td>\n      <td>2015-01-13</td>\n      <td>shot</td>\n      <td>knife</td>\n      <td>43.0</td>\n      <td>M</td>\n      <td>W</td>\n      <td>Jourdanton</td>\n      <td>TX</td>\n      <td>True</td>\n      <td>other</td>\n      <td>Not fleeing</td>\n      <td>False</td>\n    </tr>\n  </tbody>\n</table>\n</div>"
     },
     "metadata": {},
     "execution_count": 28
    }
   ],
   "source": [
    "df_NA=df_shootings[df_shootings[\"threat_level\"]!=\"attack\"]\n",
    "df_NA.head()"
   ]
  },
  {
   "cell_type": "code",
   "execution_count": 29,
   "metadata": {},
   "outputs": [],
   "source": [
    "df_NA_FL=df_NA[df_NA[\"flee\"]!=\"Not fleeing\"]"
   ]
  },
  {
   "cell_type": "code",
   "execution_count": 30,
   "metadata": {
    "tags": []
   },
   "outputs": [
    {
     "output_type": "stream",
     "name": "stdout",
     "text": "(215, 14)\n"
    },
    {
     "output_type": "execute_result",
     "data": {
      "text/plain": "W    83\nB    71\nH    48\nA     6\nO     3\nN     3\nName: race, dtype: int64"
     },
     "metadata": {},
     "execution_count": 30
    }
   ],
   "source": [
    "df_NA_UN=df_NA[df_NA[\"armed\"]=='unarmed']\n",
    "print(df_NA_UN.shape)\n",
    "df_NA_UN['race'].value_counts()"
   ]
  },
  {
   "cell_type": "code",
   "execution_count": 31,
   "metadata": {},
   "outputs": [
    {
     "output_type": "execute_result",
     "data": {
      "text/plain": "     id                        name        date manner_of_death    armed  \\\n45   85                Dewayne Carr  2015-01-20            shot      NaN   \n62  352          Joshua Omar Garcia  2015-01-26            shot  unarmed   \n72  342                Ralph Willis  2015-01-29            shot  unarmed   \n76  114               David Kassick  2015-02-02            shot  unarmed   \n89  128  Paul Alfred Eugene Johnson  2015-02-05            shot      gun   \n\n     age gender race         city state  signs_of_mental_illness threat_level  \\\n45  42.0      M    B   Scottsdale    AZ                    False        other   \n62  24.0      M    H       Tahoka    TX                    False        other   \n72  42.0      M    W   Stillwater    OK                    False        other   \n76  59.0      M    W  Hummelstown    PA                    False        other   \n89  59.0      M    W        Chino    CA                    False        other   \n\n    flee  body_camera  \n45   Car        False  \n62   Car        False  \n72  Foot        False  \n76  Foot        False  \n89   Car        False  ",
      "text/html": "<div>\n<style scoped>\n    .dataframe tbody tr th:only-of-type {\n        vertical-align: middle;\n    }\n\n    .dataframe tbody tr th {\n        vertical-align: top;\n    }\n\n    .dataframe thead th {\n        text-align: right;\n    }\n</style>\n<table border=\"1\" class=\"dataframe\">\n  <thead>\n    <tr style=\"text-align: right;\">\n      <th></th>\n      <th>id</th>\n      <th>name</th>\n      <th>date</th>\n      <th>manner_of_death</th>\n      <th>armed</th>\n      <th>age</th>\n      <th>gender</th>\n      <th>race</th>\n      <th>city</th>\n      <th>state</th>\n      <th>signs_of_mental_illness</th>\n      <th>threat_level</th>\n      <th>flee</th>\n      <th>body_camera</th>\n    </tr>\n  </thead>\n  <tbody>\n    <tr>\n      <th>45</th>\n      <td>85</td>\n      <td>Dewayne Carr</td>\n      <td>2015-01-20</td>\n      <td>shot</td>\n      <td>NaN</td>\n      <td>42.0</td>\n      <td>M</td>\n      <td>B</td>\n      <td>Scottsdale</td>\n      <td>AZ</td>\n      <td>False</td>\n      <td>other</td>\n      <td>Car</td>\n      <td>False</td>\n    </tr>\n    <tr>\n      <th>62</th>\n      <td>352</td>\n      <td>Joshua Omar Garcia</td>\n      <td>2015-01-26</td>\n      <td>shot</td>\n      <td>unarmed</td>\n      <td>24.0</td>\n      <td>M</td>\n      <td>H</td>\n      <td>Tahoka</td>\n      <td>TX</td>\n      <td>False</td>\n      <td>other</td>\n      <td>Car</td>\n      <td>False</td>\n    </tr>\n    <tr>\n      <th>72</th>\n      <td>342</td>\n      <td>Ralph Willis</td>\n      <td>2015-01-29</td>\n      <td>shot</td>\n      <td>unarmed</td>\n      <td>42.0</td>\n      <td>M</td>\n      <td>W</td>\n      <td>Stillwater</td>\n      <td>OK</td>\n      <td>False</td>\n      <td>other</td>\n      <td>Foot</td>\n      <td>False</td>\n    </tr>\n    <tr>\n      <th>76</th>\n      <td>114</td>\n      <td>David Kassick</td>\n      <td>2015-02-02</td>\n      <td>shot</td>\n      <td>unarmed</td>\n      <td>59.0</td>\n      <td>M</td>\n      <td>W</td>\n      <td>Hummelstown</td>\n      <td>PA</td>\n      <td>False</td>\n      <td>other</td>\n      <td>Foot</td>\n      <td>False</td>\n    </tr>\n    <tr>\n      <th>89</th>\n      <td>128</td>\n      <td>Paul Alfred Eugene Johnson</td>\n      <td>2015-02-05</td>\n      <td>shot</td>\n      <td>gun</td>\n      <td>59.0</td>\n      <td>M</td>\n      <td>W</td>\n      <td>Chino</td>\n      <td>CA</td>\n      <td>False</td>\n      <td>other</td>\n      <td>Car</td>\n      <td>False</td>\n    </tr>\n  </tbody>\n</table>\n</div>"
     },
     "metadata": {},
     "execution_count": 31
    }
   ],
   "source": [
    "df_NA_FL.head()"
   ]
  },
  {
   "cell_type": "code",
   "execution_count": 32,
   "metadata": {},
   "outputs": [
    {
     "output_type": "execute_result",
     "data": {
      "text/plain": "(735, 14)"
     },
     "metadata": {},
     "execution_count": 32
    }
   ],
   "source": [
    "df_NA_FL.shape"
   ]
  },
  {
   "cell_type": "code",
   "execution_count": 33,
   "metadata": {},
   "outputs": [
    {
     "output_type": "execute_result",
     "data": {
      "text/plain": "W    287\nB    189\nH    161\nN     15\nA     11\nO      7\nName: race, dtype: int64"
     },
     "metadata": {},
     "execution_count": 33
    }
   ],
   "source": [
    "df_NA_FL['race'].value_counts()"
   ]
  },
  {
   "cell_type": "code",
   "execution_count": 34,
   "metadata": {},
   "outputs": [],
   "source": [
    "df_NA_FL_UN=df_NA_FL[df_NA_FL[\"armed\"]==\"unarmed\"]"
   ]
  },
  {
   "cell_type": "code",
   "execution_count": 35,
   "metadata": {},
   "outputs": [
    {
     "output_type": "execute_result",
     "data": {
      "text/plain": "      id                     name        date   manner_of_death    armed  \\\n62   352       Joshua Omar Garcia  2015-01-26              shot  unarmed   \n72   342             Ralph Willis  2015-01-29              shot  unarmed   \n76   114            David Kassick  2015-02-02              shot  unarmed   \n102  138  Antonio Zambrano-Montes  2015-02-10  shot and Tasered  unarmed   \n119  159          Michael Ireland  2015-02-17              shot  unarmed   \n\n      age gender race         city state  signs_of_mental_illness  \\\n62   24.0      M    H       Tahoka    TX                    False   \n72   42.0      M    W   Stillwater    OK                    False   \n76   59.0      M    W  Hummelstown    PA                    False   \n102  35.0      M    H        Pasco    WA                     True   \n119  31.0      M    W  Springfield    MO                    False   \n\n    threat_level  flee  body_camera  \n62         other   Car        False  \n72         other  Foot        False  \n76         other  Foot        False  \n102        other  Foot        False  \n119        other  Foot        False  ",
      "text/html": "<div>\n<style scoped>\n    .dataframe tbody tr th:only-of-type {\n        vertical-align: middle;\n    }\n\n    .dataframe tbody tr th {\n        vertical-align: top;\n    }\n\n    .dataframe thead th {\n        text-align: right;\n    }\n</style>\n<table border=\"1\" class=\"dataframe\">\n  <thead>\n    <tr style=\"text-align: right;\">\n      <th></th>\n      <th>id</th>\n      <th>name</th>\n      <th>date</th>\n      <th>manner_of_death</th>\n      <th>armed</th>\n      <th>age</th>\n      <th>gender</th>\n      <th>race</th>\n      <th>city</th>\n      <th>state</th>\n      <th>signs_of_mental_illness</th>\n      <th>threat_level</th>\n      <th>flee</th>\n      <th>body_camera</th>\n    </tr>\n  </thead>\n  <tbody>\n    <tr>\n      <th>62</th>\n      <td>352</td>\n      <td>Joshua Omar Garcia</td>\n      <td>2015-01-26</td>\n      <td>shot</td>\n      <td>unarmed</td>\n      <td>24.0</td>\n      <td>M</td>\n      <td>H</td>\n      <td>Tahoka</td>\n      <td>TX</td>\n      <td>False</td>\n      <td>other</td>\n      <td>Car</td>\n      <td>False</td>\n    </tr>\n    <tr>\n      <th>72</th>\n      <td>342</td>\n      <td>Ralph Willis</td>\n      <td>2015-01-29</td>\n      <td>shot</td>\n      <td>unarmed</td>\n      <td>42.0</td>\n      <td>M</td>\n      <td>W</td>\n      <td>Stillwater</td>\n      <td>OK</td>\n      <td>False</td>\n      <td>other</td>\n      <td>Foot</td>\n      <td>False</td>\n    </tr>\n    <tr>\n      <th>76</th>\n      <td>114</td>\n      <td>David Kassick</td>\n      <td>2015-02-02</td>\n      <td>shot</td>\n      <td>unarmed</td>\n      <td>59.0</td>\n      <td>M</td>\n      <td>W</td>\n      <td>Hummelstown</td>\n      <td>PA</td>\n      <td>False</td>\n      <td>other</td>\n      <td>Foot</td>\n      <td>False</td>\n    </tr>\n    <tr>\n      <th>102</th>\n      <td>138</td>\n      <td>Antonio Zambrano-Montes</td>\n      <td>2015-02-10</td>\n      <td>shot and Tasered</td>\n      <td>unarmed</td>\n      <td>35.0</td>\n      <td>M</td>\n      <td>H</td>\n      <td>Pasco</td>\n      <td>WA</td>\n      <td>True</td>\n      <td>other</td>\n      <td>Foot</td>\n      <td>False</td>\n    </tr>\n    <tr>\n      <th>119</th>\n      <td>159</td>\n      <td>Michael Ireland</td>\n      <td>2015-02-17</td>\n      <td>shot</td>\n      <td>unarmed</td>\n      <td>31.0</td>\n      <td>M</td>\n      <td>W</td>\n      <td>Springfield</td>\n      <td>MO</td>\n      <td>False</td>\n      <td>other</td>\n      <td>Foot</td>\n      <td>False</td>\n    </tr>\n  </tbody>\n</table>\n</div>"
     },
     "metadata": {},
     "execution_count": 35
    }
   ],
   "source": [
    "df_NA_FL_UN.head()"
   ]
  },
  {
   "cell_type": "code",
   "execution_count": 36,
   "metadata": {},
   "outputs": [
    {
     "output_type": "execute_result",
     "data": {
      "text/plain": "(113, 14)"
     },
     "metadata": {},
     "execution_count": 36
    }
   ],
   "source": [
    "df_NA_FL_UN.shape"
   ]
  },
  {
   "cell_type": "code",
   "execution_count": 37,
   "metadata": {},
   "outputs": [
    {
     "output_type": "execute_result",
     "data": {
      "text/plain": "B    41\nW    38\nH    29\nA     3\nN     2\nName: race, dtype: int64"
     },
     "metadata": {},
     "execution_count": 37
    }
   ],
   "source": [
    "df_NA_FL_UN[\"race\"].value_counts()"
   ]
  },
  {
   "cell_type": "code",
   "execution_count": 38,
   "metadata": {
    "tags": []
   },
   "outputs": [
    {
     "output_type": "stream",
     "name": "stdout",
     "text": "Black % =  0.36283185840707965\nWhite % =  0.336283185840708\nHispanic % =  0.25663716814159293\n"
    }
   ],
   "source": [
    "print(\"Black % = \", 41/113)\n",
    "print(\"White % = \", 38/113)\n",
    "print(\"Hispanic % = \", 29/113)"
   ]
  },
  {
   "cell_type": "code",
   "execution_count": null,
   "metadata": {},
   "outputs": [],
   "source": []
  },
  {
   "cell_type": "code",
   "execution_count": 39,
   "metadata": {},
   "outputs": [
    {
     "output_type": "execute_result",
     "data": {
      "text/plain": "M    5194\nF     241\nName: gender, dtype: int64"
     },
     "metadata": {},
     "execution_count": 39
    }
   ],
   "source": [
    "df_shootings['gender'].value_counts()"
   ]
  },
  {
   "cell_type": "code",
   "execution_count": 40,
   "metadata": {
    "tags": []
   },
   "outputs": [
    {
     "output_type": "stream",
     "name": "stdout",
     "text": "Male =  0.9556577736890525\nFemale =  0.044342226310947565\n"
    }
   ],
   "source": [
    "print(\"Male = \", 5194/(5194+241))\n",
    "print(\"Female = \", 241/(5194+241))"
   ]
  },
  {
   "cell_type": "code",
   "execution_count": 41,
   "metadata": {
    "tags": []
   },
   "outputs": [
    {
     "output_type": "stream",
     "name": "stdout",
     "text": "3\n"
    }
   ],
   "source": [
    "print(1+2)"
   ]
  },
  {
   "cell_type": "code",
   "execution_count": null,
   "metadata": {},
   "outputs": [],
   "source": []
  }
 ],
 "metadata": {
  "language_info": {
   "codemirror_mode": {
    "name": "ipython",
    "version": 3
   },
   "file_extension": ".py",
   "mimetype": "text/x-python",
   "name": "python",
   "nbconvert_exporter": "python",
   "pygments_lexer": "ipython3",
   "version": "3.8.2-final"
  },
  "orig_nbformat": 2,
  "kernelspec": {
   "name": "python38264bit76e0f3bc3d954be6a13eddef1bacc624",
   "display_name": "Python 3.8.2 64-bit"
  }
 },
 "nbformat": 4,
 "nbformat_minor": 2
}