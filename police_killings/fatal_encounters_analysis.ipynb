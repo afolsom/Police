{
 "cells": [
  {
   "cell_type": "code",
   "execution_count": 1,
   "metadata": {},
   "outputs": [],
   "source": [
    "import pandas as pd\n",
    "import numpy as np"
   ]
  },
  {
   "cell_type": "code",
   "execution_count": 2,
   "metadata": {
    "tags": []
   },
   "outputs": [
    {
     "output_type": "stream",
     "name": "stdout",
     "text": "(28368, 16)\n"
    },
    {
     "output_type": "execute_result",
     "data": {
      "text/plain": "                    Name Age Gender              Race Presumed Race      Date  \\\n0        Samuel H. Knapp  17   Male             White         White  1/1/2000   \n1         Mark A. Horton  21   Male             Black         Black  1/1/2000   \n2  Phillip A. Blurbridge  19   Male             Black         Black  1/1/2000   \n3             Mark Ortiz  23   Male          Hispanic      Hispanic  1/1/2000   \n4          Lester Miller  53   Male  Race unspecified         Black  1/2/2000   \n\n        City State  Zipcode   Latitude   Longitude  \\\n0    Willits    CA  95490.0  39.470883 -123.361751   \n1    Detroit    MI  48203.0  42.404526  -83.092274   \n2    Detroit    MI  48203.0  42.404526  -83.092274   \n3   Carlsbad    NM  88220.0  32.450080 -104.237643   \n4  Ellenwood    GA  30294.0  33.645164  -84.229413   \n\n                              Agency Cause of death  \\\n0  Mendocino County Sheriff's Office        Vehicle   \n1                                NaN        Vehicle   \n2                                NaN        Vehicle   \n3       Eddy County Sheriff's Office        Vehicle   \n4     DeKalb County Sheriff's Office        Gunshot   \n\n                                         Description  \\\n0  Samuel Knapp was allegedly driving a stolen ve...   \n1  Two Detroit men killed when their car crashed ...   \n2  Two Detroit men killed when their car crashed ...   \n3  A motorcycle was allegedly being driven errati...   \n4  Darren Mayfield, a DeKalb County sheriff's dep...   \n\n           Intentional Use of Force    Year  \n0                   Vehicle/Pursuit  2000.0  \n1                   Vehicle/Pursuit  2000.0  \n2                   Vehicle/Pursuit  2000.0  \n3                   Vehicle/Pursuit  2000.0  \n4  Intentional Use of Force, Deadly  2000.0  ",
      "text/html": "<div>\n<style scoped>\n    .dataframe tbody tr th:only-of-type {\n        vertical-align: middle;\n    }\n\n    .dataframe tbody tr th {\n        vertical-align: top;\n    }\n\n    .dataframe thead th {\n        text-align: right;\n    }\n</style>\n<table border=\"1\" class=\"dataframe\">\n  <thead>\n    <tr style=\"text-align: right;\">\n      <th></th>\n      <th>Name</th>\n      <th>Age</th>\n      <th>Gender</th>\n      <th>Race</th>\n      <th>Presumed Race</th>\n      <th>Date</th>\n      <th>City</th>\n      <th>State</th>\n      <th>Zipcode</th>\n      <th>Latitude</th>\n      <th>Longitude</th>\n      <th>Agency</th>\n      <th>Cause of death</th>\n      <th>Description</th>\n      <th>Intentional Use of Force</th>\n      <th>Year</th>\n    </tr>\n  </thead>\n  <tbody>\n    <tr>\n      <th>0</th>\n      <td>Samuel H. Knapp</td>\n      <td>17</td>\n      <td>Male</td>\n      <td>White</td>\n      <td>White</td>\n      <td>1/1/2000</td>\n      <td>Willits</td>\n      <td>CA</td>\n      <td>95490.0</td>\n      <td>39.470883</td>\n      <td>-123.361751</td>\n      <td>Mendocino County Sheriff's Office</td>\n      <td>Vehicle</td>\n      <td>Samuel Knapp was allegedly driving a stolen ve...</td>\n      <td>Vehicle/Pursuit</td>\n      <td>2000.0</td>\n    </tr>\n    <tr>\n      <th>1</th>\n      <td>Mark A. Horton</td>\n      <td>21</td>\n      <td>Male</td>\n      <td>Black</td>\n      <td>Black</td>\n      <td>1/1/2000</td>\n      <td>Detroit</td>\n      <td>MI</td>\n      <td>48203.0</td>\n      <td>42.404526</td>\n      <td>-83.092274</td>\n      <td>NaN</td>\n      <td>Vehicle</td>\n      <td>Two Detroit men killed when their car crashed ...</td>\n      <td>Vehicle/Pursuit</td>\n      <td>2000.0</td>\n    </tr>\n    <tr>\n      <th>2</th>\n      <td>Phillip A. Blurbridge</td>\n      <td>19</td>\n      <td>Male</td>\n      <td>Black</td>\n      <td>Black</td>\n      <td>1/1/2000</td>\n      <td>Detroit</td>\n      <td>MI</td>\n      <td>48203.0</td>\n      <td>42.404526</td>\n      <td>-83.092274</td>\n      <td>NaN</td>\n      <td>Vehicle</td>\n      <td>Two Detroit men killed when their car crashed ...</td>\n      <td>Vehicle/Pursuit</td>\n      <td>2000.0</td>\n    </tr>\n    <tr>\n      <th>3</th>\n      <td>Mark Ortiz</td>\n      <td>23</td>\n      <td>Male</td>\n      <td>Hispanic</td>\n      <td>Hispanic</td>\n      <td>1/1/2000</td>\n      <td>Carlsbad</td>\n      <td>NM</td>\n      <td>88220.0</td>\n      <td>32.450080</td>\n      <td>-104.237643</td>\n      <td>Eddy County Sheriff's Office</td>\n      <td>Vehicle</td>\n      <td>A motorcycle was allegedly being driven errati...</td>\n      <td>Vehicle/Pursuit</td>\n      <td>2000.0</td>\n    </tr>\n    <tr>\n      <th>4</th>\n      <td>Lester Miller</td>\n      <td>53</td>\n      <td>Male</td>\n      <td>Race unspecified</td>\n      <td>Black</td>\n      <td>1/2/2000</td>\n      <td>Ellenwood</td>\n      <td>GA</td>\n      <td>30294.0</td>\n      <td>33.645164</td>\n      <td>-84.229413</td>\n      <td>DeKalb County Sheriff's Office</td>\n      <td>Gunshot</td>\n      <td>Darren Mayfield, a DeKalb County sheriff's dep...</td>\n      <td>Intentional Use of Force, Deadly</td>\n      <td>2000.0</td>\n    </tr>\n  </tbody>\n</table>\n</div>"
     },
     "metadata": {},
     "execution_count": 2
    }
   ],
   "source": [
    "df=pd.read_csv(\"fatal_encounters_data_clean.csv\")\n",
    "print(df.shape)\n",
    "df.head()\n"
   ]
  },
  {
   "cell_type": "code",
   "execution_count": 3,
   "metadata": {},
   "outputs": [
    {
     "output_type": "execute_result",
     "data": {
      "text/plain": "               Race  Count  Percent\n0             White  13420    48.05\n1             Black   7683    27.51\n2          Hispanic   4592    16.44\n3  Race unspecified   1372     4.91\n4             Asian    529     1.89\n5            Native    277     0.99\n6    Middle Eastern     48     0.17\n7        Other Race      9     0.03\n8             Total  27930   100.00",
      "text/html": "<div>\n<style scoped>\n    .dataframe tbody tr th:only-of-type {\n        vertical-align: middle;\n    }\n\n    .dataframe tbody tr th {\n        vertical-align: top;\n    }\n\n    .dataframe thead th {\n        text-align: right;\n    }\n</style>\n<table border=\"1\" class=\"dataframe\">\n  <thead>\n    <tr style=\"text-align: right;\">\n      <th></th>\n      <th>Race</th>\n      <th>Count</th>\n      <th>Percent</th>\n    </tr>\n  </thead>\n  <tbody>\n    <tr>\n      <th>0</th>\n      <td>White</td>\n      <td>13420</td>\n      <td>48.05</td>\n    </tr>\n    <tr>\n      <th>1</th>\n      <td>Black</td>\n      <td>7683</td>\n      <td>27.51</td>\n    </tr>\n    <tr>\n      <th>2</th>\n      <td>Hispanic</td>\n      <td>4592</td>\n      <td>16.44</td>\n    </tr>\n    <tr>\n      <th>3</th>\n      <td>Race unspecified</td>\n      <td>1372</td>\n      <td>4.91</td>\n    </tr>\n    <tr>\n      <th>4</th>\n      <td>Asian</td>\n      <td>529</td>\n      <td>1.89</td>\n    </tr>\n    <tr>\n      <th>5</th>\n      <td>Native</td>\n      <td>277</td>\n      <td>0.99</td>\n    </tr>\n    <tr>\n      <th>6</th>\n      <td>Middle Eastern</td>\n      <td>48</td>\n      <td>0.17</td>\n    </tr>\n    <tr>\n      <th>7</th>\n      <td>Other Race</td>\n      <td>9</td>\n      <td>0.03</td>\n    </tr>\n    <tr>\n      <th>8</th>\n      <td>Total</td>\n      <td>27930</td>\n      <td>100.00</td>\n    </tr>\n  </tbody>\n</table>\n</div>"
     },
     "metadata": {},
     "execution_count": 3
    }
   ],
   "source": [
    "df_counts=df[\"Presumed Race\"].value_counts()\n",
    "df_counts=df_counts.to_frame().reset_index()\n",
    "df_counts=df_counts.rename(columns={'index':\"Race\",'Presumed Race':'Count'})\n",
    "df_counts=df_counts.append({\"Race\":\"Total\",\"Count\":df_counts[\"Count\"].sum(axis=0)}, ignore_index=True)\n",
    "\n",
    "i=0\n",
    "Percents=[]\n",
    "for i in df_counts.index.values.tolist():\n",
    "    value=df_counts.at[i,\"Count\"]/df_counts.at[df_counts.index.values.tolist()[-1],\"Count\"]*100\n",
    "    Percents.append(value.round(2))\n",
    "\n",
    "df_counts[\"Percent\"]=Percents\n",
    "df_counts"
   ]
  },
  {
   "cell_type": "code",
   "execution_count": 4,
   "metadata": {},
   "outputs": [
    {
     "output_type": "execute_result",
     "data": {
      "text/plain": "Gunshot                        20118\nVehicle                         5810\nTasered                          909\nMedical emergency                381\nAsphyxiated                      275\nDrug overdose                    176\nBeaten                           174\nDrowned                          173\nUndetermined                     102\nFell from a height                73\nOther                             57\nStabbed                           48\nBurned/Smoke inhalation           35\nChemical agent/Pepper spray       35\nUnknown                            1\nName: Cause of death, dtype: int64"
     },
     "metadata": {},
     "execution_count": 4
    }
   ],
   "source": [
    "df[\"Cause of death\"].value_counts()"
   ]
  },
  {
   "cell_type": "code",
   "execution_count": 5,
   "metadata": {},
   "outputs": [],
   "source": [
    "df_kill=df[df[\"Intentional Use of Force\"]==\"Intentional Use of Force, Deadly\"]"
   ]
  },
  {
   "cell_type": "code",
   "execution_count": 6,
   "metadata": {},
   "outputs": [
    {
     "output_type": "execute_result",
     "data": {
      "text/plain": "                          Name  Age Gender              Race Presumed Race  \\\n4                Lester Miller   53   Male  Race unspecified         Black   \n12             Derrick E. Tate   23   Male  Race unspecified         White   \n13         John Edward Pittman   45   Male             Black         Black   \n17                 Kyle Dillon   19   Male             White         White   \n19          Darryl Woodall Jr.   23   Male  Race unspecified         Black   \n...                        ...  ...    ...               ...           ...   \n28360        Kevin Lee Catlett   62   Male  Race unspecified           NaN   \n28362         Jason Noble Snow   34   Male             White         White   \n28364               Ky Johnson   31   Male  Race unspecified           NaN   \n28365             Kevan Ruffin   32   Male             Black         Black   \n28366  Name withheld by police  NaN   Male  Race unspecified           NaN   \n\n            Date          City State  Zipcode   Latitude   Longitude  \\\n4       1/2/2000     Ellenwood    GA  30294.0  33.645164  -84.229413   \n12      1/5/2000       Pontiac    IL  61764.0  40.873687  -88.642806   \n13      1/5/2000        Dothan    AL      NaN  31.223231  -85.390489   \n17      1/6/2000          York    NE  68467.0  40.876827  -97.595816   \n19      1/6/2000     Charlotte    NC  28208.0  35.239050  -80.918319   \n...          ...           ...   ...      ...        ...         ...   \n28360  6/30/2020  Johnson City    TN  37601.0  36.353041  -82.331010   \n28362   7/1/2020       Durango    CO  81301.0  37.290439 -107.875500   \n28364   7/2/2020   Kansas City    MO  64128.0  39.069208  -94.520026   \n28365   7/2/2020     Sheboygan    WI  53081.0  43.744312  -87.724608   \n28366   7/2/2020   Kansas City    MO  64124.0  39.105227  -94.519121   \n\n                                                  Agency Cause of death  \\\n4                         DeKalb County Sheriff's Office        Gunshot   \n12                         Bloomington Police Department        Gunshot   \n13                              Dothan Police Department        Gunshot   \n17                                York Police Department        Gunshot   \n19     North Carolina State Highway Patrol, Charlotte...        Gunshot   \n...                                                  ...            ...   \n28360                            Johnson City Department        Gunshot   \n28362                          Durango Police Department        Gunshot   \n28364                      Kansas City Police Department        Gunshot   \n28365                        Sheboygan Police Department        Gunshot   \n28366                      Kansas City Police Department        Gunshot   \n\n                                             Description  \\\n4      Darren Mayfield, a DeKalb County sheriff's dep...   \n12     Officer Elias E. Mendiola shot Derrick E. Tate...   \n13     John Edward Pittman was shot and killed by off...   \n17     Kyle Dillon allegedly walked up to officer Jas...   \n19     State troopers and county deputies had tracked...   \n...                                                  ...   \n28360  About 7 p.m., Johnson City police were respond...   \n28362  Police were dispatched to O’Reilly Auto Parts ...   \n28364  Police responded to a disturbance around 4:40 ...   \n28365  Police responded to a 911 call around 5:50 a.m...   \n28366  Police said they heard about a man who robbed ...   \n\n               Intentional Use of Force    Year  \n4      Intentional Use of Force, Deadly  2000.0  \n12     Intentional Use of Force, Deadly  2000.0  \n13     Intentional Use of Force, Deadly  2000.0  \n17     Intentional Use of Force, Deadly  2000.0  \n19     Intentional Use of Force, Deadly  2000.0  \n...                                 ...     ...  \n28360  Intentional Use of Force, Deadly  2020.0  \n28362  Intentional Use of Force, Deadly  2020.0  \n28364  Intentional Use of Force, Deadly  2020.0  \n28365  Intentional Use of Force, Deadly  2020.0  \n28366  Intentional Use of Force, Deadly  2020.0  \n\n[17118 rows x 16 columns]",
      "text/html": "<div>\n<style scoped>\n    .dataframe tbody tr th:only-of-type {\n        vertical-align: middle;\n    }\n\n    .dataframe tbody tr th {\n        vertical-align: top;\n    }\n\n    .dataframe thead th {\n        text-align: right;\n    }\n</style>\n<table border=\"1\" class=\"dataframe\">\n  <thead>\n    <tr style=\"text-align: right;\">\n      <th></th>\n      <th>Name</th>\n      <th>Age</th>\n      <th>Gender</th>\n      <th>Race</th>\n      <th>Presumed Race</th>\n      <th>Date</th>\n      <th>City</th>\n      <th>State</th>\n      <th>Zipcode</th>\n      <th>Latitude</th>\n      <th>Longitude</th>\n      <th>Agency</th>\n      <th>Cause of death</th>\n      <th>Description</th>\n      <th>Intentional Use of Force</th>\n      <th>Year</th>\n    </tr>\n  </thead>\n  <tbody>\n    <tr>\n      <th>4</th>\n      <td>Lester Miller</td>\n      <td>53</td>\n      <td>Male</td>\n      <td>Race unspecified</td>\n      <td>Black</td>\n      <td>1/2/2000</td>\n      <td>Ellenwood</td>\n      <td>GA</td>\n      <td>30294.0</td>\n      <td>33.645164</td>\n      <td>-84.229413</td>\n      <td>DeKalb County Sheriff's Office</td>\n      <td>Gunshot</td>\n      <td>Darren Mayfield, a DeKalb County sheriff's dep...</td>\n      <td>Intentional Use of Force, Deadly</td>\n      <td>2000.0</td>\n    </tr>\n    <tr>\n      <th>12</th>\n      <td>Derrick E. Tate</td>\n      <td>23</td>\n      <td>Male</td>\n      <td>Race unspecified</td>\n      <td>White</td>\n      <td>1/5/2000</td>\n      <td>Pontiac</td>\n      <td>IL</td>\n      <td>61764.0</td>\n      <td>40.873687</td>\n      <td>-88.642806</td>\n      <td>Bloomington Police Department</td>\n      <td>Gunshot</td>\n      <td>Officer Elias E. Mendiola shot Derrick E. Tate...</td>\n      <td>Intentional Use of Force, Deadly</td>\n      <td>2000.0</td>\n    </tr>\n    <tr>\n      <th>13</th>\n      <td>John Edward Pittman</td>\n      <td>45</td>\n      <td>Male</td>\n      <td>Black</td>\n      <td>Black</td>\n      <td>1/5/2000</td>\n      <td>Dothan</td>\n      <td>AL</td>\n      <td>NaN</td>\n      <td>31.223231</td>\n      <td>-85.390489</td>\n      <td>Dothan Police Department</td>\n      <td>Gunshot</td>\n      <td>John Edward Pittman was shot and killed by off...</td>\n      <td>Intentional Use of Force, Deadly</td>\n      <td>2000.0</td>\n    </tr>\n    <tr>\n      <th>17</th>\n      <td>Kyle Dillon</td>\n      <td>19</td>\n      <td>Male</td>\n      <td>White</td>\n      <td>White</td>\n      <td>1/6/2000</td>\n      <td>York</td>\n      <td>NE</td>\n      <td>68467.0</td>\n      <td>40.876827</td>\n      <td>-97.595816</td>\n      <td>York Police Department</td>\n      <td>Gunshot</td>\n      <td>Kyle Dillon allegedly walked up to officer Jas...</td>\n      <td>Intentional Use of Force, Deadly</td>\n      <td>2000.0</td>\n    </tr>\n    <tr>\n      <th>19</th>\n      <td>Darryl Woodall Jr.</td>\n      <td>23</td>\n      <td>Male</td>\n      <td>Race unspecified</td>\n      <td>Black</td>\n      <td>1/6/2000</td>\n      <td>Charlotte</td>\n      <td>NC</td>\n      <td>28208.0</td>\n      <td>35.239050</td>\n      <td>-80.918319</td>\n      <td>North Carolina State Highway Patrol, Charlotte...</td>\n      <td>Gunshot</td>\n      <td>State troopers and county deputies had tracked...</td>\n      <td>Intentional Use of Force, Deadly</td>\n      <td>2000.0</td>\n    </tr>\n    <tr>\n      <th>...</th>\n      <td>...</td>\n      <td>...</td>\n      <td>...</td>\n      <td>...</td>\n      <td>...</td>\n      <td>...</td>\n      <td>...</td>\n      <td>...</td>\n      <td>...</td>\n      <td>...</td>\n      <td>...</td>\n      <td>...</td>\n      <td>...</td>\n      <td>...</td>\n      <td>...</td>\n      <td>...</td>\n    </tr>\n    <tr>\n      <th>28360</th>\n      <td>Kevin Lee Catlett</td>\n      <td>62</td>\n      <td>Male</td>\n      <td>Race unspecified</td>\n      <td>NaN</td>\n      <td>6/30/2020</td>\n      <td>Johnson City</td>\n      <td>TN</td>\n      <td>37601.0</td>\n      <td>36.353041</td>\n      <td>-82.331010</td>\n      <td>Johnson City Department</td>\n      <td>Gunshot</td>\n      <td>About 7 p.m., Johnson City police were respond...</td>\n      <td>Intentional Use of Force, Deadly</td>\n      <td>2020.0</td>\n    </tr>\n    <tr>\n      <th>28362</th>\n      <td>Jason Noble Snow</td>\n      <td>34</td>\n      <td>Male</td>\n      <td>White</td>\n      <td>White</td>\n      <td>7/1/2020</td>\n      <td>Durango</td>\n      <td>CO</td>\n      <td>81301.0</td>\n      <td>37.290439</td>\n      <td>-107.875500</td>\n      <td>Durango Police Department</td>\n      <td>Gunshot</td>\n      <td>Police were dispatched to O’Reilly Auto Parts ...</td>\n      <td>Intentional Use of Force, Deadly</td>\n      <td>2020.0</td>\n    </tr>\n    <tr>\n      <th>28364</th>\n      <td>Ky Johnson</td>\n      <td>31</td>\n      <td>Male</td>\n      <td>Race unspecified</td>\n      <td>NaN</td>\n      <td>7/2/2020</td>\n      <td>Kansas City</td>\n      <td>MO</td>\n      <td>64128.0</td>\n      <td>39.069208</td>\n      <td>-94.520026</td>\n      <td>Kansas City Police Department</td>\n      <td>Gunshot</td>\n      <td>Police responded to a disturbance around 4:40 ...</td>\n      <td>Intentional Use of Force, Deadly</td>\n      <td>2020.0</td>\n    </tr>\n    <tr>\n      <th>28365</th>\n      <td>Kevan Ruffin</td>\n      <td>32</td>\n      <td>Male</td>\n      <td>Black</td>\n      <td>Black</td>\n      <td>7/2/2020</td>\n      <td>Sheboygan</td>\n      <td>WI</td>\n      <td>53081.0</td>\n      <td>43.744312</td>\n      <td>-87.724608</td>\n      <td>Sheboygan Police Department</td>\n      <td>Gunshot</td>\n      <td>Police responded to a 911 call around 5:50 a.m...</td>\n      <td>Intentional Use of Force, Deadly</td>\n      <td>2020.0</td>\n    </tr>\n    <tr>\n      <th>28366</th>\n      <td>Name withheld by police</td>\n      <td>NaN</td>\n      <td>Male</td>\n      <td>Race unspecified</td>\n      <td>NaN</td>\n      <td>7/2/2020</td>\n      <td>Kansas City</td>\n      <td>MO</td>\n      <td>64124.0</td>\n      <td>39.105227</td>\n      <td>-94.519121</td>\n      <td>Kansas City Police Department</td>\n      <td>Gunshot</td>\n      <td>Police said they heard about a man who robbed ...</td>\n      <td>Intentional Use of Force, Deadly</td>\n      <td>2020.0</td>\n    </tr>\n  </tbody>\n</table>\n<p>17118 rows × 16 columns</p>\n</div>"
     },
     "metadata": {},
     "execution_count": 6
    }
   ],
   "source": [
    "df_kill"
   ]
  },
  {
   "cell_type": "code",
   "execution_count": 7,
   "metadata": {},
   "outputs": [
    {
     "output_type": "execute_result",
     "data": {
      "text/plain": "               Race  Count  Percent\n0             White   8082    47.81\n1             Black   4663    27.59\n2          Hispanic   3062    18.11\n3  Race unspecified    501     2.96\n4             Asian    352     2.08\n5            Native    205     1.21\n6    Middle Eastern     37     0.22\n7        Other Race      2     0.01\n8             Total  16904   100.00",
      "text/html": "<div>\n<style scoped>\n    .dataframe tbody tr th:only-of-type {\n        vertical-align: middle;\n    }\n\n    .dataframe tbody tr th {\n        vertical-align: top;\n    }\n\n    .dataframe thead th {\n        text-align: right;\n    }\n</style>\n<table border=\"1\" class=\"dataframe\">\n  <thead>\n    <tr style=\"text-align: right;\">\n      <th></th>\n      <th>Race</th>\n      <th>Count</th>\n      <th>Percent</th>\n    </tr>\n  </thead>\n  <tbody>\n    <tr>\n      <th>0</th>\n      <td>White</td>\n      <td>8082</td>\n      <td>47.81</td>\n    </tr>\n    <tr>\n      <th>1</th>\n      <td>Black</td>\n      <td>4663</td>\n      <td>27.59</td>\n    </tr>\n    <tr>\n      <th>2</th>\n      <td>Hispanic</td>\n      <td>3062</td>\n      <td>18.11</td>\n    </tr>\n    <tr>\n      <th>3</th>\n      <td>Race unspecified</td>\n      <td>501</td>\n      <td>2.96</td>\n    </tr>\n    <tr>\n      <th>4</th>\n      <td>Asian</td>\n      <td>352</td>\n      <td>2.08</td>\n    </tr>\n    <tr>\n      <th>5</th>\n      <td>Native</td>\n      <td>205</td>\n      <td>1.21</td>\n    </tr>\n    <tr>\n      <th>6</th>\n      <td>Middle Eastern</td>\n      <td>37</td>\n      <td>0.22</td>\n    </tr>\n    <tr>\n      <th>7</th>\n      <td>Other Race</td>\n      <td>2</td>\n      <td>0.01</td>\n    </tr>\n    <tr>\n      <th>8</th>\n      <td>Total</td>\n      <td>16904</td>\n      <td>100.00</td>\n    </tr>\n  </tbody>\n</table>\n</div>"
     },
     "metadata": {},
     "execution_count": 7
    }
   ],
   "source": [
    "df_kill_counts=df_kill[\"Presumed Race\"].value_counts()\n",
    "df_kill_counts=df_kill_counts.to_frame().reset_index()\n",
    "df_kill_counts=df_kill_counts.rename(columns={'index':\"Race\",'Presumed Race':'Count'})\n",
    "df_kill_counts=df_kill_counts.append({\"Race\":\"Total\",\"Count\":df_kill_counts[\"Count\"].sum(axis=0)}, ignore_index=True)\n",
    "\n",
    "i=0\n",
    "Percents_kill=[]\n",
    "for i in df_kill_counts.index.values.tolist():\n",
    "    value=df_kill_counts.at[i,\"Count\"]/df_kill_counts.at[df_kill_counts.index.values.tolist()[-1],\"Count\"]*100\n",
    "    Percents_kill.append(value.round(2))\n",
    "\n",
    "df_kill_counts[\"Percent\"]=Percents_kill\n",
    "df_kill_counts"
   ]
  },
  {
   "cell_type": "code",
   "execution_count": 8,
   "metadata": {},
   "outputs": [
    {
     "output_type": "execute_result",
     "data": {
      "text/plain": "        Gender  Count  Percent\n0         Male  16110    94.18\n1       Female    986     5.76\n2  Transgender     10     0.06\n3        Total  17106   100.00",
      "text/html": "<div>\n<style scoped>\n    .dataframe tbody tr th:only-of-type {\n        vertical-align: middle;\n    }\n\n    .dataframe tbody tr th {\n        vertical-align: top;\n    }\n\n    .dataframe thead th {\n        text-align: right;\n    }\n</style>\n<table border=\"1\" class=\"dataframe\">\n  <thead>\n    <tr style=\"text-align: right;\">\n      <th></th>\n      <th>Gender</th>\n      <th>Count</th>\n      <th>Percent</th>\n    </tr>\n  </thead>\n  <tbody>\n    <tr>\n      <th>0</th>\n      <td>Male</td>\n      <td>16110</td>\n      <td>94.18</td>\n    </tr>\n    <tr>\n      <th>1</th>\n      <td>Female</td>\n      <td>986</td>\n      <td>5.76</td>\n    </tr>\n    <tr>\n      <th>2</th>\n      <td>Transgender</td>\n      <td>10</td>\n      <td>0.06</td>\n    </tr>\n    <tr>\n      <th>3</th>\n      <td>Total</td>\n      <td>17106</td>\n      <td>100.00</td>\n    </tr>\n  </tbody>\n</table>\n</div>"
     },
     "metadata": {},
     "execution_count": 8
    }
   ],
   "source": [
    "df_gen_counts=df_kill[\"Gender\"].value_counts()\n",
    "df_gen_counts=df_gen_counts.to_frame().reset_index()\n",
    "df_gen_counts=df_gen_counts.rename(columns={'index':\"Gender\",'Gender':'Count'})\n",
    "df_gen_counts=df_gen_counts.append({\"Gender\":\"Total\",\"Count\":df_gen_counts[\"Count\"].sum(axis=0)}, ignore_index=True)\n",
    "\n",
    "i=0\n",
    "Percents_gen=[]\n",
    "for i in df_gen_counts.index.values.tolist():\n",
    "    value=df_gen_counts.at[i,\"Count\"]/df_gen_counts.at[df_gen_counts.index.values.tolist()[-1],\"Count\"]*100\n",
    "    Percents_gen.append(value.round(2))\n",
    "\n",
    "df_gen_counts[\"Percent\"]=Percents_gen\n",
    "df_gen_counts"
   ]
  },
  {
   "cell_type": "code",
   "execution_count": 9,
   "metadata": {},
   "outputs": [],
   "source": [
    "df_kill_male=df_kill[df_kill[\"Gender\"]==\"Male\"]\n",
    "df_kill_female=df_kill[df_kill[\"Gender\"]==\"Female\"]"
   ]
  },
  {
   "cell_type": "code",
   "execution_count": 10,
   "metadata": {},
   "outputs": [
    {
     "output_type": "execute_result",
     "data": {
      "text/plain": "               Race  Count  Percent\n0             White   7492    47.09\n1             Black   4452    27.98\n2          Hispanic   2946    18.52\n3  Race unspecified    464     2.92\n4             Asian    327     2.06\n5            Native    191     1.20\n6    Middle Eastern     35     0.22\n7        Other Race      2     0.01\n8             Total  15909   100.00",
      "text/html": "<div>\n<style scoped>\n    .dataframe tbody tr th:only-of-type {\n        vertical-align: middle;\n    }\n\n    .dataframe tbody tr th {\n        vertical-align: top;\n    }\n\n    .dataframe thead th {\n        text-align: right;\n    }\n</style>\n<table border=\"1\" class=\"dataframe\">\n  <thead>\n    <tr style=\"text-align: right;\">\n      <th></th>\n      <th>Race</th>\n      <th>Count</th>\n      <th>Percent</th>\n    </tr>\n  </thead>\n  <tbody>\n    <tr>\n      <th>0</th>\n      <td>White</td>\n      <td>7492</td>\n      <td>47.09</td>\n    </tr>\n    <tr>\n      <th>1</th>\n      <td>Black</td>\n      <td>4452</td>\n      <td>27.98</td>\n    </tr>\n    <tr>\n      <th>2</th>\n      <td>Hispanic</td>\n      <td>2946</td>\n      <td>18.52</td>\n    </tr>\n    <tr>\n      <th>3</th>\n      <td>Race unspecified</td>\n      <td>464</td>\n      <td>2.92</td>\n    </tr>\n    <tr>\n      <th>4</th>\n      <td>Asian</td>\n      <td>327</td>\n      <td>2.06</td>\n    </tr>\n    <tr>\n      <th>5</th>\n      <td>Native</td>\n      <td>191</td>\n      <td>1.20</td>\n    </tr>\n    <tr>\n      <th>6</th>\n      <td>Middle Eastern</td>\n      <td>35</td>\n      <td>0.22</td>\n    </tr>\n    <tr>\n      <th>7</th>\n      <td>Other Race</td>\n      <td>2</td>\n      <td>0.01</td>\n    </tr>\n    <tr>\n      <th>8</th>\n      <td>Total</td>\n      <td>15909</td>\n      <td>100.00</td>\n    </tr>\n  </tbody>\n</table>\n</div>"
     },
     "metadata": {},
     "execution_count": 10
    }
   ],
   "source": [
    "df_kill_male_counts=df_kill_male[\"Presumed Race\"].value_counts()\n",
    "df_kill_male_counts=df_kill_male_counts.to_frame().reset_index()\n",
    "df_kill_male_counts=df_kill_male_counts.rename(columns={'index':\"Race\",'Presumed Race':'Count'})\n",
    "df_kill_male_counts=df_kill_male_counts.append({\"Race\":\"Total\",\"Count\":df_kill_male_counts[\"Count\"].sum(axis=0)}, ignore_index=True)\n",
    "\n",
    "i=0\n",
    "Percents_male_kill=[]\n",
    "for i in df_kill_male_counts.index.values.tolist():\n",
    "    value=df_kill_male_counts.at[i,\"Count\"]/df_kill_male_counts.at[df_kill_male_counts.index.values.tolist()[-1],\"Count\"]*100\n",
    "    Percents_male_kill.append(value.round(2))\n",
    "\n",
    "df_kill_male_counts[\"Percent\"]=Percents_male_kill\n",
    "df_kill_male_counts"
   ]
  },
  {
   "cell_type": "code",
   "execution_count": 11,
   "metadata": {},
   "outputs": [
    {
     "output_type": "execute_result",
     "data": {
      "text/plain": "               Race  Count  Percent\n0             White    584    59.84\n1             Black    208    21.31\n2          Hispanic    114    11.68\n3  Race unspecified     29     2.97\n4             Asian     25     2.56\n5            Native     14     1.43\n6    Middle Eastern      2     0.20\n7             Total    976   100.00",
      "text/html": "<div>\n<style scoped>\n    .dataframe tbody tr th:only-of-type {\n        vertical-align: middle;\n    }\n\n    .dataframe tbody tr th {\n        vertical-align: top;\n    }\n\n    .dataframe thead th {\n        text-align: right;\n    }\n</style>\n<table border=\"1\" class=\"dataframe\">\n  <thead>\n    <tr style=\"text-align: right;\">\n      <th></th>\n      <th>Race</th>\n      <th>Count</th>\n      <th>Percent</th>\n    </tr>\n  </thead>\n  <tbody>\n    <tr>\n      <th>0</th>\n      <td>White</td>\n      <td>584</td>\n      <td>59.84</td>\n    </tr>\n    <tr>\n      <th>1</th>\n      <td>Black</td>\n      <td>208</td>\n      <td>21.31</td>\n    </tr>\n    <tr>\n      <th>2</th>\n      <td>Hispanic</td>\n      <td>114</td>\n      <td>11.68</td>\n    </tr>\n    <tr>\n      <th>3</th>\n      <td>Race unspecified</td>\n      <td>29</td>\n      <td>2.97</td>\n    </tr>\n    <tr>\n      <th>4</th>\n      <td>Asian</td>\n      <td>25</td>\n      <td>2.56</td>\n    </tr>\n    <tr>\n      <th>5</th>\n      <td>Native</td>\n      <td>14</td>\n      <td>1.43</td>\n    </tr>\n    <tr>\n      <th>6</th>\n      <td>Middle Eastern</td>\n      <td>2</td>\n      <td>0.20</td>\n    </tr>\n    <tr>\n      <th>7</th>\n      <td>Total</td>\n      <td>976</td>\n      <td>100.00</td>\n    </tr>\n  </tbody>\n</table>\n</div>"
     },
     "metadata": {},
     "execution_count": 11
    }
   ],
   "source": [
    "df_kill_female_counts=df_kill_female[\"Presumed Race\"].value_counts()\n",
    "df_kill_female_counts=df_kill_female_counts.to_frame().reset_index()\n",
    "df_kill_female_counts=df_kill_female_counts.rename(columns={'index':\"Race\",'Presumed Race':'Count'})\n",
    "df_kill_female_counts=df_kill_female_counts.append({\"Race\":\"Total\",\"Count\":df_kill_female_counts[\"Count\"].sum(axis=0)}, ignore_index=True)\n",
    "\n",
    "i=0\n",
    "Percents_female_kill=[]\n",
    "for i in df_kill_female_counts.index.values.tolist():\n",
    "    value=df_kill_female_counts.at[i,\"Count\"]/df_kill_female_counts.at[df_kill_female_counts.index.values.tolist()[-1],\"Count\"]*100\n",
    "    Percents_female_kill.append(value.round(2))\n",
    "\n",
    "df_kill_female_counts[\"Percent\"]=Percents_female_kill\n",
    "df_kill_female_counts"
   ]
  },
  {
   "cell_type": "code",
   "execution_count": null,
   "metadata": {},
   "outputs": [],
   "source": []
  }
 ],
 "metadata": {
  "language_info": {
   "codemirror_mode": {
    "name": "ipython",
    "version": 3
   },
   "file_extension": ".py",
   "mimetype": "text/x-python",
   "name": "python",
   "nbconvert_exporter": "python",
   "pygments_lexer": "ipython3",
   "version": "3.8.2-final"
  },
  "orig_nbformat": 2,
  "kernelspec": {
   "name": "python38264bit76e0f3bc3d954be6a13eddef1bacc624",
   "display_name": "Python 3.8.2 64-bit"
  }
 },
 "nbformat": 4,
 "nbformat_minor": 2
}