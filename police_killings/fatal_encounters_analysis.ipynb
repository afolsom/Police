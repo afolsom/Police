{
 "cells": [
  {
   "cell_type": "code",
   "execution_count": 1,
   "metadata": {},
   "outputs": [],
   "source": [
    "import pandas as pd\n",
    "import numpy as np"
   ]
  },
  {
   "cell_type": "code",
   "execution_count": 2,
   "metadata": {
    "tags": []
   },
   "outputs": [
    {
     "output_type": "stream",
     "name": "stdout",
     "text": "(28368, 16)\n"
    },
    {
     "output_type": "execute_result",
     "data": {
      "text/plain": "                    Name Age Gender              Race Presumed Race      Date  \\\n0        Samuel H. Knapp  17   Male             White         White  1/1/2000   \n1         Mark A. Horton  21   Male             Black         Black  1/1/2000   \n2  Phillip A. Blurbridge  19   Male             Black         Black  1/1/2000   \n3             Mark Ortiz  23   Male          Hispanic      Hispanic  1/1/2000   \n4          Lester Miller  53   Male  Race unspecified         Black  1/2/2000   \n\n        City State  Zipcode   Latitude   Longitude  \\\n0    Willits    CA  95490.0  39.470883 -123.361751   \n1    Detroit    MI  48203.0  42.404526  -83.092274   \n2    Detroit    MI  48203.0  42.404526  -83.092274   \n3   Carlsbad    NM  88220.0  32.450080 -104.237643   \n4  Ellenwood    GA  30294.0  33.645164  -84.229413   \n\n                              Agency Cause of death  \\\n0  Mendocino County Sheriff's Office        Vehicle   \n1                                NaN        Vehicle   \n2                                NaN        Vehicle   \n3       Eddy County Sheriff's Office        Vehicle   \n4     DeKalb County Sheriff's Office        Gunshot   \n\n                                         Description  \\\n0  Samuel Knapp was allegedly driving a stolen ve...   \n1  Two Detroit men killed when their car crashed ...   \n2  Two Detroit men killed when their car crashed ...   \n3  A motorcycle was allegedly being driven errati...   \n4  Darren Mayfield, a DeKalb County sheriff's dep...   \n\n           Intentional Use of Force    Year  \n0                   Vehicle/Pursuit  2000.0  \n1                   Vehicle/Pursuit  2000.0  \n2                   Vehicle/Pursuit  2000.0  \n3                   Vehicle/Pursuit  2000.0  \n4  Intentional Use of Force, Deadly  2000.0  ",
      "text/html": "<div>\n<style scoped>\n    .dataframe tbody tr th:only-of-type {\n        vertical-align: middle;\n    }\n\n    .dataframe tbody tr th {\n        vertical-align: top;\n    }\n\n    .dataframe thead th {\n        text-align: right;\n    }\n</style>\n<table border=\"1\" class=\"dataframe\">\n  <thead>\n    <tr style=\"text-align: right;\">\n      <th></th>\n      <th>Name</th>\n      <th>Age</th>\n      <th>Gender</th>\n      <th>Race</th>\n      <th>Presumed Race</th>\n      <th>Date</th>\n      <th>City</th>\n      <th>State</th>\n      <th>Zipcode</th>\n      <th>Latitude</th>\n      <th>Longitude</th>\n      <th>Agency</th>\n      <th>Cause of death</th>\n      <th>Description</th>\n      <th>Intentional Use of Force</th>\n      <th>Year</th>\n    </tr>\n  </thead>\n  <tbody>\n    <tr>\n      <th>0</th>\n      <td>Samuel H. Knapp</td>\n      <td>17</td>\n      <td>Male</td>\n      <td>White</td>\n      <td>White</td>\n      <td>1/1/2000</td>\n      <td>Willits</td>\n      <td>CA</td>\n      <td>95490.0</td>\n      <td>39.470883</td>\n      <td>-123.361751</td>\n      <td>Mendocino County Sheriff's Office</td>\n      <td>Vehicle</td>\n      <td>Samuel Knapp was allegedly driving a stolen ve...</td>\n      <td>Vehicle/Pursuit</td>\n      <td>2000.0</td>\n    </tr>\n    <tr>\n      <th>1</th>\n      <td>Mark A. Horton</td>\n      <td>21</td>\n      <td>Male</td>\n      <td>Black</td>\n      <td>Black</td>\n      <td>1/1/2000</td>\n      <td>Detroit</td>\n      <td>MI</td>\n      <td>48203.0</td>\n      <td>42.404526</td>\n      <td>-83.092274</td>\n      <td>NaN</td>\n      <td>Vehicle</td>\n      <td>Two Detroit men killed when their car crashed ...</td>\n      <td>Vehicle/Pursuit</td>\n      <td>2000.0</td>\n    </tr>\n    <tr>\n      <th>2</th>\n      <td>Phillip A. Blurbridge</td>\n      <td>19</td>\n      <td>Male</td>\n      <td>Black</td>\n      <td>Black</td>\n      <td>1/1/2000</td>\n      <td>Detroit</td>\n      <td>MI</td>\n      <td>48203.0</td>\n      <td>42.404526</td>\n      <td>-83.092274</td>\n      <td>NaN</td>\n      <td>Vehicle</td>\n      <td>Two Detroit men killed when their car crashed ...</td>\n      <td>Vehicle/Pursuit</td>\n      <td>2000.0</td>\n    </tr>\n    <tr>\n      <th>3</th>\n      <td>Mark Ortiz</td>\n      <td>23</td>\n      <td>Male</td>\n      <td>Hispanic</td>\n      <td>Hispanic</td>\n      <td>1/1/2000</td>\n      <td>Carlsbad</td>\n      <td>NM</td>\n      <td>88220.0</td>\n      <td>32.450080</td>\n      <td>-104.237643</td>\n      <td>Eddy County Sheriff's Office</td>\n      <td>Vehicle</td>\n      <td>A motorcycle was allegedly being driven errati...</td>\n      <td>Vehicle/Pursuit</td>\n      <td>2000.0</td>\n    </tr>\n    <tr>\n      <th>4</th>\n      <td>Lester Miller</td>\n      <td>53</td>\n      <td>Male</td>\n      <td>Race unspecified</td>\n      <td>Black</td>\n      <td>1/2/2000</td>\n      <td>Ellenwood</td>\n      <td>GA</td>\n      <td>30294.0</td>\n      <td>33.645164</td>\n      <td>-84.229413</td>\n      <td>DeKalb County Sheriff's Office</td>\n      <td>Gunshot</td>\n      <td>Darren Mayfield, a DeKalb County sheriff's dep...</td>\n      <td>Intentional Use of Force, Deadly</td>\n      <td>2000.0</td>\n    </tr>\n  </tbody>\n</table>\n</div>"
     },
     "metadata": {},
     "execution_count": 2
    }
   ],
   "source": [
    "df=pd.read_csv(\"fatal_encounters_data_clean.csv\")\n",
    "print(df.shape)\n",
    "df.head()\n"
   ]
  },
  {
   "cell_type": "code",
   "execution_count": 3,
   "metadata": {},
   "outputs": [],
   "source": [
    "df_counts=df[\"Presumed Race\"].value_counts()"
   ]
  },
  {
   "cell_type": "code",
   "execution_count": 4,
   "metadata": {
    "tags": []
   },
   "outputs": [
    {
     "output_type": "stream",
     "name": "stdout",
     "text": "Overall Percent White =  0.47306824591088553\nOverall Percent Black =  0.2708333333333333\n"
    }
   ],
   "source": [
    "print(\"Overall Percent White = \", 13420/28368)\n",
    "print(\"Overall Percent Black = \", 7683/28368)"
   ]
  },
  {
   "cell_type": "code",
   "execution_count": null,
   "metadata": {},
   "outputs": [],
   "source": []
  }
 ],
 "metadata": {
  "language_info": {
   "codemirror_mode": {
    "name": "ipython",
    "version": 3
   },
   "file_extension": ".py",
   "mimetype": "text/x-python",
   "name": "python",
   "nbconvert_exporter": "python",
   "pygments_lexer": "ipython3",
   "version": "3.8.2-final"
  },
  "orig_nbformat": 2,
  "kernelspec": {
   "name": "python38264bit76e0f3bc3d954be6a13eddef1bacc624",
   "display_name": "Python 3.8.2 64-bit"
  }
 },
 "nbformat": 4,
 "nbformat_minor": 2
}